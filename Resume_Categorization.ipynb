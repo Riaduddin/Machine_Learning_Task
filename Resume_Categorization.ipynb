{
  "cells": [
    {
      "cell_type": "markdown",
      "metadata": {
        "id": "RcCIcn-zKQDc"
      },
      "source": [
        "#drive"
      ]
    },
    {
      "cell_type": "code",
      "execution_count": 1,
      "metadata": {
        "colab": {
          "base_uri": "https://localhost:8080/"
        },
        "id": "LkxfkRhbexn_",
        "outputId": "34073b0a-898f-4e0b-9edd-e91259972076"
      },
      "outputs": [
        {
          "output_type": "stream",
          "name": "stdout",
          "text": [
            "Mounted at /content/drive\n"
          ]
        }
      ],
      "source": [
        "#mounting drive\n",
        "from google.colab import drive\n",
        "drive.mount('/content/drive')"
      ]
    },
    {
      "cell_type": "code",
      "execution_count": 2,
      "metadata": {
        "id": "moZ7L1u5eejr"
      },
      "outputs": [],
      "source": [
        "#changing the path\n",
        "import os\n",
        "os.chdir('/content/drive/MyDrive/interview')"
      ]
    },
    {
      "cell_type": "code",
      "execution_count": 3,
      "metadata": {
        "id": "8dnF6-LmfZys",
        "colab": {
          "base_uri": "https://localhost:8080/"
        },
        "outputId": "373f4305-ab8f-4f5d-e23a-d4db2bf3b964"
      },
      "outputs": [
        {
          "output_type": "stream",
          "name": "stdout",
          "text": [
            " Resume.csv  'Untitled0 (1).ipynb'   Untitled0.ipynb\n"
          ]
        }
      ],
      "source": [
        "ls"
      ]
    },
    {
      "cell_type": "code",
      "execution_count": 4,
      "metadata": {
        "id": "pqjUM5Awf3Q1"
      },
      "outputs": [],
      "source": [
        "#!unzip archive.zip\n",
        "#!unzip glove.6B.50d.txt.zip\n",
        "#!unzip glove.6B.300d.txt.\n",
        "#!unzip glove.6B.100d.txt.zip"
      ]
    },
    {
      "cell_type": "markdown",
      "metadata": {
        "id": "2mMdtSjLKivJ"
      },
      "source": [
        "#import"
      ]
    },
    {
      "cell_type": "code",
      "execution_count": 5,
      "metadata": {
        "id": "OMZ113dNTWYe"
      },
      "outputs": [],
      "source": [
        "#!pip install keras-tuner"
      ]
    },
    {
      "cell_type": "code",
      "execution_count": 6,
      "metadata": {
        "id": "QQdoHa22KlHo",
        "colab": {
          "base_uri": "https://localhost:8080/"
        },
        "outputId": "0f5b69da-156d-4b8d-af35-6efca692132d"
      },
      "outputs": [
        {
          "output_type": "stream",
          "name": "stderr",
          "text": [
            "[nltk_data] Downloading package stopwords to /root/nltk_data...\n",
            "[nltk_data]   Unzipping corpora/stopwords.zip.\n",
            "[nltk_data] Downloading package punkt to /root/nltk_data...\n",
            "[nltk_data]   Unzipping tokenizers/punkt.zip.\n"
          ]
        }
      ],
      "source": [
        "#importing all files\n",
        "import pandas as pd\n",
        "import numpy as np\n",
        "import nltk\n",
        "import gensim\n",
        "import seaborn as sns\n",
        "import matplotlib.pyplot as plt\n",
        "from sklearn.model_selection import train_test_split\n",
        "import tensorflow as tf\n",
        "from tensorflow.keras.preprocessing.text import Tokenizer\n",
        "from tensorflow.keras.preprocessing.sequence import pad_sequences\n",
        "from tensorflow.keras.initializers import Constant\n",
        "from tensorflow.keras.layers import Embedding,Dropout,LSTM,Bidirectional,Dense,Conv1D,MaxPooling1D,BatchNormalization,Activation,Flatten\n",
        "from tensorflow.keras.models import Sequential\n",
        "from tensorflow.keras.callbacks import EarlyStopping,ModelCheckpoint\n",
        "from xgboost import XGBRFClassifier\n",
        "from tensorflow import keras\n",
        "from sklearn.metrics import classification_report, accuracy_score\n",
        "#from kerastuner.tuners import RandomSearch\n",
        "from sklearn.utils import compute_class_weight\n",
        "nltk.download('stopwords')\n",
        "from nltk.corpus import stopwords\n",
        "nltk.download('punkt')\n",
        "stopwords=stopwords.words('english')"
      ]
    },
    {
      "cell_type": "markdown",
      "metadata": {
        "id": "e8YGJA2OKXnp"
      },
      "source": [
        "#Read data"
      ]
    },
    {
      "cell_type": "code",
      "execution_count": 7,
      "metadata": {
        "colab": {
          "base_uri": "https://localhost:8080/",
          "height": 206
        },
        "id": "AGDuJabHf8QE",
        "outputId": "981a5a7c-133c-45a7-fec6-4db84a595e1c"
      },
      "outputs": [
        {
          "output_type": "execute_result",
          "data": {
            "text/plain": [
              "         ID                                         Resume_str  \\\n",
              "0  16852973           HR ADMINISTRATOR/MARKETING ASSOCIATE\\...   \n",
              "1  22323967           HR SPECIALIST, US HR OPERATIONS      ...   \n",
              "2  33176873           HR DIRECTOR       Summary      Over 2...   \n",
              "3  27018550           HR SPECIALIST       Summary    Dedica...   \n",
              "4  17812897           HR MANAGER         Skill Highlights  ...   \n",
              "\n",
              "                                         Resume_html Category  \n",
              "0  <div class=\"fontsize fontface vmargins hmargin...       HR  \n",
              "1  <div class=\"fontsize fontface vmargins hmargin...       HR  \n",
              "2  <div class=\"fontsize fontface vmargins hmargin...       HR  \n",
              "3  <div class=\"fontsize fontface vmargins hmargin...       HR  \n",
              "4  <div class=\"fontsize fontface vmargins hmargin...       HR  "
            ],
            "text/html": [
              "\n",
              "\n",
              "  <div id=\"df-e027a967-d097-4ada-87d0-7cdce4b4bd9b\">\n",
              "    <div class=\"colab-df-container\">\n",
              "      <div>\n",
              "<style scoped>\n",
              "    .dataframe tbody tr th:only-of-type {\n",
              "        vertical-align: middle;\n",
              "    }\n",
              "\n",
              "    .dataframe tbody tr th {\n",
              "        vertical-align: top;\n",
              "    }\n",
              "\n",
              "    .dataframe thead th {\n",
              "        text-align: right;\n",
              "    }\n",
              "</style>\n",
              "<table border=\"1\" class=\"dataframe\">\n",
              "  <thead>\n",
              "    <tr style=\"text-align: right;\">\n",
              "      <th></th>\n",
              "      <th>ID</th>\n",
              "      <th>Resume_str</th>\n",
              "      <th>Resume_html</th>\n",
              "      <th>Category</th>\n",
              "    </tr>\n",
              "  </thead>\n",
              "  <tbody>\n",
              "    <tr>\n",
              "      <th>0</th>\n",
              "      <td>16852973</td>\n",
              "      <td>HR ADMINISTRATOR/MARKETING ASSOCIATE\\...</td>\n",
              "      <td>&lt;div class=\"fontsize fontface vmargins hmargin...</td>\n",
              "      <td>HR</td>\n",
              "    </tr>\n",
              "    <tr>\n",
              "      <th>1</th>\n",
              "      <td>22323967</td>\n",
              "      <td>HR SPECIALIST, US HR OPERATIONS      ...</td>\n",
              "      <td>&lt;div class=\"fontsize fontface vmargins hmargin...</td>\n",
              "      <td>HR</td>\n",
              "    </tr>\n",
              "    <tr>\n",
              "      <th>2</th>\n",
              "      <td>33176873</td>\n",
              "      <td>HR DIRECTOR       Summary      Over 2...</td>\n",
              "      <td>&lt;div class=\"fontsize fontface vmargins hmargin...</td>\n",
              "      <td>HR</td>\n",
              "    </tr>\n",
              "    <tr>\n",
              "      <th>3</th>\n",
              "      <td>27018550</td>\n",
              "      <td>HR SPECIALIST       Summary    Dedica...</td>\n",
              "      <td>&lt;div class=\"fontsize fontface vmargins hmargin...</td>\n",
              "      <td>HR</td>\n",
              "    </tr>\n",
              "    <tr>\n",
              "      <th>4</th>\n",
              "      <td>17812897</td>\n",
              "      <td>HR MANAGER         Skill Highlights  ...</td>\n",
              "      <td>&lt;div class=\"fontsize fontface vmargins hmargin...</td>\n",
              "      <td>HR</td>\n",
              "    </tr>\n",
              "  </tbody>\n",
              "</table>\n",
              "</div>\n",
              "      <button class=\"colab-df-convert\" onclick=\"convertToInteractive('df-e027a967-d097-4ada-87d0-7cdce4b4bd9b')\"\n",
              "              title=\"Convert this dataframe to an interactive table.\"\n",
              "              style=\"display:none;\">\n",
              "\n",
              "  <svg xmlns=\"http://www.w3.org/2000/svg\" height=\"24px\"viewBox=\"0 0 24 24\"\n",
              "       width=\"24px\">\n",
              "    <path d=\"M0 0h24v24H0V0z\" fill=\"none\"/>\n",
              "    <path d=\"M18.56 5.44l.94 2.06.94-2.06 2.06-.94-2.06-.94-.94-2.06-.94 2.06-2.06.94zm-11 1L8.5 8.5l.94-2.06 2.06-.94-2.06-.94L8.5 2.5l-.94 2.06-2.06.94zm10 10l.94 2.06.94-2.06 2.06-.94-2.06-.94-.94-2.06-.94 2.06-2.06.94z\"/><path d=\"M17.41 7.96l-1.37-1.37c-.4-.4-.92-.59-1.43-.59-.52 0-1.04.2-1.43.59L10.3 9.45l-7.72 7.72c-.78.78-.78 2.05 0 2.83L4 21.41c.39.39.9.59 1.41.59.51 0 1.02-.2 1.41-.59l7.78-7.78 2.81-2.81c.8-.78.8-2.07 0-2.86zM5.41 20L4 18.59l7.72-7.72 1.47 1.35L5.41 20z\"/>\n",
              "  </svg>\n",
              "      </button>\n",
              "\n",
              "\n",
              "\n",
              "    <div id=\"df-1b476af1-85e9-4779-b2e2-277e37efe8c7\">\n",
              "      <button class=\"colab-df-quickchart\" onclick=\"quickchart('df-1b476af1-85e9-4779-b2e2-277e37efe8c7')\"\n",
              "              title=\"Suggest charts.\"\n",
              "              style=\"display:none;\">\n",
              "\n",
              "<svg xmlns=\"http://www.w3.org/2000/svg\" height=\"24px\"viewBox=\"0 0 24 24\"\n",
              "     width=\"24px\">\n",
              "    <g>\n",
              "        <path d=\"M19 3H5c-1.1 0-2 .9-2 2v14c0 1.1.9 2 2 2h14c1.1 0 2-.9 2-2V5c0-1.1-.9-2-2-2zM9 17H7v-7h2v7zm4 0h-2V7h2v10zm4 0h-2v-4h2v4z\"/>\n",
              "    </g>\n",
              "</svg>\n",
              "      </button>\n",
              "    </div>\n",
              "\n",
              "<style>\n",
              "  .colab-df-quickchart {\n",
              "    background-color: #E8F0FE;\n",
              "    border: none;\n",
              "    border-radius: 50%;\n",
              "    cursor: pointer;\n",
              "    display: none;\n",
              "    fill: #1967D2;\n",
              "    height: 32px;\n",
              "    padding: 0 0 0 0;\n",
              "    width: 32px;\n",
              "  }\n",
              "\n",
              "  .colab-df-quickchart:hover {\n",
              "    background-color: #E2EBFA;\n",
              "    box-shadow: 0px 1px 2px rgba(60, 64, 67, 0.3), 0px 1px 3px 1px rgba(60, 64, 67, 0.15);\n",
              "    fill: #174EA6;\n",
              "  }\n",
              "\n",
              "  [theme=dark] .colab-df-quickchart {\n",
              "    background-color: #3B4455;\n",
              "    fill: #D2E3FC;\n",
              "  }\n",
              "\n",
              "  [theme=dark] .colab-df-quickchart:hover {\n",
              "    background-color: #434B5C;\n",
              "    box-shadow: 0px 1px 3px 1px rgba(0, 0, 0, 0.15);\n",
              "    filter: drop-shadow(0px 1px 2px rgba(0, 0, 0, 0.3));\n",
              "    fill: #FFFFFF;\n",
              "  }\n",
              "</style>\n",
              "\n",
              "    <script>\n",
              "      async function quickchart(key) {\n",
              "        const containerElement = document.querySelector('#' + key);\n",
              "        const charts = await google.colab.kernel.invokeFunction(\n",
              "            'suggestCharts', [key], {});\n",
              "      }\n",
              "    </script>\n",
              "\n",
              "      <script>\n",
              "\n",
              "function displayQuickchartButton(domScope) {\n",
              "  let quickchartButtonEl =\n",
              "    domScope.querySelector('#df-1b476af1-85e9-4779-b2e2-277e37efe8c7 button.colab-df-quickchart');\n",
              "  quickchartButtonEl.style.display =\n",
              "    google.colab.kernel.accessAllowed ? 'block' : 'none';\n",
              "}\n",
              "\n",
              "        displayQuickchartButton(document);\n",
              "      </script>\n",
              "      <style>\n",
              "    .colab-df-container {\n",
              "      display:flex;\n",
              "      flex-wrap:wrap;\n",
              "      gap: 12px;\n",
              "    }\n",
              "\n",
              "    .colab-df-convert {\n",
              "      background-color: #E8F0FE;\n",
              "      border: none;\n",
              "      border-radius: 50%;\n",
              "      cursor: pointer;\n",
              "      display: none;\n",
              "      fill: #1967D2;\n",
              "      height: 32px;\n",
              "      padding: 0 0 0 0;\n",
              "      width: 32px;\n",
              "    }\n",
              "\n",
              "    .colab-df-convert:hover {\n",
              "      background-color: #E2EBFA;\n",
              "      box-shadow: 0px 1px 2px rgba(60, 64, 67, 0.3), 0px 1px 3px 1px rgba(60, 64, 67, 0.15);\n",
              "      fill: #174EA6;\n",
              "    }\n",
              "\n",
              "    [theme=dark] .colab-df-convert {\n",
              "      background-color: #3B4455;\n",
              "      fill: #D2E3FC;\n",
              "    }\n",
              "\n",
              "    [theme=dark] .colab-df-convert:hover {\n",
              "      background-color: #434B5C;\n",
              "      box-shadow: 0px 1px 3px 1px rgba(0, 0, 0, 0.15);\n",
              "      filter: drop-shadow(0px 1px 2px rgba(0, 0, 0, 0.3));\n",
              "      fill: #FFFFFF;\n",
              "    }\n",
              "  </style>\n",
              "\n",
              "      <script>\n",
              "        const buttonEl =\n",
              "          document.querySelector('#df-e027a967-d097-4ada-87d0-7cdce4b4bd9b button.colab-df-convert');\n",
              "        buttonEl.style.display =\n",
              "          google.colab.kernel.accessAllowed ? 'block' : 'none';\n",
              "\n",
              "        async function convertToInteractive(key) {\n",
              "          const element = document.querySelector('#df-e027a967-d097-4ada-87d0-7cdce4b4bd9b');\n",
              "          const dataTable =\n",
              "            await google.colab.kernel.invokeFunction('convertToInteractive',\n",
              "                                                     [key], {});\n",
              "          if (!dataTable) return;\n",
              "\n",
              "          const docLinkHtml = 'Like what you see? Visit the ' +\n",
              "            '<a target=\"_blank\" href=https://colab.research.google.com/notebooks/data_table.ipynb>data table notebook</a>'\n",
              "            + ' to learn more about interactive tables.';\n",
              "          element.innerHTML = '';\n",
              "          dataTable['output_type'] = 'display_data';\n",
              "          await google.colab.output.renderOutput(dataTable, element);\n",
              "          const docLink = document.createElement('div');\n",
              "          docLink.innerHTML = docLinkHtml;\n",
              "          element.appendChild(docLink);\n",
              "        }\n",
              "      </script>\n",
              "    </div>\n",
              "  </div>\n"
            ]
          },
          "metadata": {},
          "execution_count": 7
        }
      ],
      "source": [
        "#read the csv\n",
        "data=pd.read_csv('Resume.csv')\n",
        "data.head()"
      ]
    },
    {
      "cell_type": "code",
      "execution_count": 8,
      "metadata": {
        "colab": {
          "base_uri": "https://localhost:8080/"
        },
        "id": "78YQeOhNK97s",
        "outputId": "94b6fa86-6643-4042-f935-c7146b613648"
      },
      "outputs": [
        {
          "output_type": "execute_result",
          "data": {
            "text/plain": [
              "(2484, 4)"
            ]
          },
          "metadata": {},
          "execution_count": 8
        }
      ],
      "source": [
        "data.shape"
      ]
    },
    {
      "cell_type": "code",
      "execution_count": 9,
      "metadata": {
        "colab": {
          "base_uri": "https://localhost:8080/",
          "height": 105
        },
        "id": "9rHJtqWhKSr3",
        "outputId": "16b88fe9-a42c-4377-bd8b-4cf7967ba74d"
      },
      "outputs": [
        {
          "output_type": "execute_result",
          "data": {
            "text/plain": [
              "\"         HR SPECIALIST, US HR OPERATIONS       Summary     Versatile  media professional with background in Communications, Marketing, Human Resources and Technology.\\xa0        Experience     09/2015   to   Current     HR Specialist, US HR Operations    Company Name   －   City  ,   State       Managed communication regarding launch of Operations group, policy changes and system outages      Designed standard work and job aids to create comprehensive training program for new employees and contractors         Audited job postings for old, pending, on-hold and draft positions.           Audited union hourly, non-union hourly and salary background checks and drug screens             Conducted monthly new hire benefits briefing to new employees across all business units               Served as a link between HR Managers and vendors by handling questions and resolving system-related issues         Provide real-time process improvement feedback on key metrics and initiatives  Successfully re-branded US HR Operations SharePoint site  Business Unit project manager for RFI/RFP on Background Check and Drug Screen vendor         01/2014   to   05/2015     IT, Marketing and Communications Co-op    Company Name   －   City  ,   State      Posted new articles, changes and updates to corporate SharePoint site including graphics and visual communications.  Researched and drafted articles and feature stories to promote company activities and programs.  Co-edited and developed content for quarterly published newsletter.  Provided communication support for internal and external events.  Collaborated with Communication team, media professionals and vendors to determine program needs for print materials, web design and digital communications.  Entrusted to lead product, service and software launches for Digital Asset Management tool, Marketing Toolkit website and Executive Tradeshows Calendar.  Created presentations for management and executive approval to ensure alignment with corporate guidelines and branding.  Maintained the MySikorsky SharePoint site and provided timely solutions to mitigate issues.\\xa0\\xa0\\xa0\\xa0  Created story board and produced video for annual IT All Hands meeting.         10/2012   to   01/2014     Relationship Coordinator/Marketing Specialist    Company Name   －   City  ,   State       Partnered with vendor to manage the in-house advertising program consisting of print and media collateral pieces.     Coordinated pre-show and post-show activities at trade shows.     Managed marketing campaigns to generate new business and to support partner and sales teams.     Ordered marketing collateral for meetings, trade shows and advisors.    Improved, administered and modified marketing programs to increase product awareness.  Assisted in preparing internal promotional publications, managed marketing material inventory and supervised distribution of publications to ensure high quality product output.  Coordinated marketing materials including brochures, promotional materials and products.  Partnered with graphic designers to develop appropriate materials and branding for brochures.  Used tracking and reporting systems for sales leads and appointments.         09/2009   to   10/2012     Assistant Head Teller    Company Name   －   City  ,   State       Received an internal audit score of  100 %.     Performed daily and monthly audits of ATM machines and tellers.     Educated customers on a variety of retail products and available credit options.       Consistently met or exceeded quarterly sales goals     Promoted products and services to\\ncustomers while maintaining company brand identity\\n\\n·\\xa0\\xa0\\xa0\\xa0\\n  Implemented programs to achieve\\nand exceed customer and company participation goals\\xa0\\n\\n\\xa0  Organized company sponsored events on campus resulting in increased\\nbrand awareness\\n\\n·\\xa0\\xa0\\xa0\\xa0\\n  Coached peers on\\nthe proper use of programs to improve work flow efficiency  Utilized product knowledge to successfully sell\\nto and refer clients based on individual needs  Promoted marketing the grand opening\\nof new branch locations to strengthen company brand affinity\\n\\n·\\xa0\\xa0\\xa0\\xa0   Organized company sponsored events\\nresulting in increased brand awareness and improved sales\\n\\n·\\xa0\\xa0\\xa0\\xa0   Coached peers on the proper use of\\nprograms to increase work flow efficiency\\n\\n          Senior Producer - 2014 SHU Media Exchange    Company Name   －   City  ,   State      Planned and executed event\\xa0focusing on Connecticut's creative corridor, growth of industry and opportunities that come with development. A\\xa0 panel of industry professionals addressed topics related to media and hosted a question and answer session for approximately 110 attendees. Following the forum, guests were invited to engage in networking and conversation at a post-event reception.         Education     2014     Master of Arts  :   Corporate Communication & Public Relations    Sacred Heart University   －   City  ,   State             2013     Bachelor of Arts  :   Relational Communication    Western Connecticut State University   －   City  ,   State              Skills    Adobe Photoshop, ADP, Asset Management, branding, brochures, content, Customer Care, Final Cut Pro, graphics, graphic, HR, Illustrator, InDesign, Innovation, inventory, Lotus Notes, marketing, marketing materials, marketing material, materials, Microsoft Office, SharePoint, newsletter, presentations, process improvement, Project Management, promotional materials, publications, Quality, real-time, Recruitment, reporting, RFP, sales, stories, Employee Development, video, web design, website, articles   \""
            ],
            "application/vnd.google.colaboratory.intrinsic+json": {
              "type": "string"
            }
          },
          "metadata": {},
          "execution_count": 9
        }
      ],
      "source": [
        "data['Resume_str'][1]"
      ]
    },
    {
      "cell_type": "code",
      "execution_count": 10,
      "metadata": {
        "colab": {
          "base_uri": "https://localhost:8080/"
        },
        "id": "C_0-Z6EoK1J8",
        "outputId": "fb3ba6b6-7998-4117-8847-7cf8eef4da93"
      },
      "outputs": [
        {
          "output_type": "execute_result",
          "data": {
            "text/plain": [
              "INFORMATION-TECHNOLOGY    120\n",
              "BUSINESS-DEVELOPMENT      120\n",
              "FINANCE                   118\n",
              "ADVOCATE                  118\n",
              "ACCOUNTANT                118\n",
              "ENGINEERING               118\n",
              "CHEF                      118\n",
              "AVIATION                  117\n",
              "FITNESS                   117\n",
              "SALES                     116\n",
              "BANKING                   115\n",
              "HEALTHCARE                115\n",
              "CONSULTANT                115\n",
              "CONSTRUCTION              112\n",
              "PUBLIC-RELATIONS          111\n",
              "HR                        110\n",
              "DESIGNER                  107\n",
              "ARTS                      103\n",
              "TEACHER                   102\n",
              "APPAREL                    97\n",
              "DIGITAL-MEDIA              96\n",
              "AGRICULTURE                63\n",
              "AUTOMOBILE                 36\n",
              "BPO                        22\n",
              "Name: Category, dtype: int64"
            ]
          },
          "metadata": {},
          "execution_count": 10
        }
      ],
      "source": [
        "#finding the distribution of all categories\n",
        "data['Category'].value_counts()"
      ]
    },
    {
      "cell_type": "code",
      "execution_count": 11,
      "metadata": {
        "colab": {
          "base_uri": "https://localhost:8080/"
        },
        "id": "ApZzzMOSOB0L",
        "outputId": "11545e33-d135-432b-d1cc-7d403d5f1a9e"
      },
      "outputs": [
        {
          "output_type": "execute_result",
          "data": {
            "text/plain": [
              "24"
            ]
          },
          "metadata": {},
          "execution_count": 11
        }
      ],
      "source": [
        "len(data['Category'].value_counts())"
      ]
    },
    {
      "cell_type": "code",
      "execution_count": 11,
      "metadata": {
        "id": "OQZ-OXlfOB31"
      },
      "outputs": [],
      "source": []
    },
    {
      "cell_type": "markdown",
      "metadata": {
        "id": "WftDiI2SOCdV"
      },
      "source": [
        "#Preprocessing"
      ]
    },
    {
      "cell_type": "code",
      "execution_count": 12,
      "metadata": {
        "id": "xIlfh1r9NOX4"
      },
      "outputs": [],
      "source": [
        "#cleaning the dataset using gensim library\n",
        "def preprocess(texts):\n",
        "  texts=texts.lower()\n",
        "  nltk.tokenize.word_tokenize(texts)\n",
        "  result=[]\n",
        "  for word in gensim.utils.simple_preprocess(texts):\n",
        "    if word not in stopwords and len(word)>3:\n",
        "      result.append(word)\n",
        "  return result"
      ]
    },
    {
      "cell_type": "code",
      "execution_count": 13,
      "metadata": {
        "id": "gwTk2DxDOjCU"
      },
      "outputs": [],
      "source": [
        "#applying the cleaning process\n",
        "data['tokenized_texts']=data['Resume_str'].apply(preprocess)"
      ]
    },
    {
      "cell_type": "code",
      "execution_count": 14,
      "metadata": {
        "id": "N_lVUr1xOvF-"
      },
      "outputs": [],
      "source": [
        "#joining the separate words\n",
        "data['text_joined']=data['tokenized_texts'].apply(lambda x:' '.join(x))"
      ]
    },
    {
      "cell_type": "code",
      "execution_count": 15,
      "metadata": {
        "colab": {
          "base_uri": "https://localhost:8080/"
        },
        "id": "WlPg57mDO0IO",
        "outputId": "47172c7c-0a38-426c-9aa7-5da7e4000663"
      },
      "outputs": [
        {
          "output_type": "execute_result",
          "data": {
            "text/plain": [
              "0    administrator marketing associate administrato...\n",
              "1    specialist operations summary versatile media ...\n",
              "2    director summary years experience recruiting p...\n",
              "3    specialist summary dedicated driven dynamic ye...\n",
              "4    manager skill highlights skills department sta...\n",
              "Name: text_joined, dtype: object"
            ]
          },
          "metadata": {},
          "execution_count": 15
        }
      ],
      "source": [
        "data['text_joined'].head()"
      ]
    },
    {
      "cell_type": "code",
      "execution_count": 16,
      "metadata": {
        "colab": {
          "base_uri": "https://localhost:8080/"
        },
        "id": "1ZR_c63UO7aC",
        "outputId": "736c6235-d3cd-4b33-9ef8-58d09503a5ea"
      },
      "outputs": [
        {
          "output_type": "stream",
          "name": "stderr",
          "text": [
            "[nltk_data] Downloading package punkt to /root/nltk_data...\n",
            "[nltk_data]   Package punkt is already up-to-date!\n"
          ]
        }
      ],
      "source": [
        "#finding the maximum words for a resume\n",
        "maxlen=-1\n",
        "nltk.download('punkt')\n",
        "for doc in data['text_joined']:\n",
        "  tokens=nltk.word_tokenize(doc)\n",
        "  if maxlen<len(tokens):\n",
        "    maxlen=len(tokens)"
      ]
    },
    {
      "cell_type": "code",
      "execution_count": 17,
      "metadata": {
        "colab": {
          "base_uri": "https://localhost:8080/"
        },
        "id": "2iK9V_CcPCON",
        "outputId": "6d1108e3-fcd1-407b-cc11-8392f5171be7"
      },
      "outputs": [
        {
          "output_type": "stream",
          "name": "stdout",
          "text": [
            "3374\n"
          ]
        }
      ],
      "source": [
        "print(maxlen)"
      ]
    },
    {
      "cell_type": "code",
      "execution_count": 18,
      "metadata": {
        "id": "iFEzvomAPEqP"
      },
      "outputs": [],
      "source": [
        "#encoding the class\n",
        "data['Category_id']=data.Category.factorize()[0]"
      ]
    },
    {
      "cell_type": "code",
      "source": [
        "data['Category_id']"
      ],
      "metadata": {
        "colab": {
          "base_uri": "https://localhost:8080/"
        },
        "id": "itSyLNQ3TZwM",
        "outputId": "74559959-4542-41ca-b79b-054a948ea388"
      },
      "execution_count": 19,
      "outputs": [
        {
          "output_type": "execute_result",
          "data": {
            "text/plain": [
              "0        0\n",
              "1        0\n",
              "2        0\n",
              "3        0\n",
              "4        0\n",
              "        ..\n",
              "2479    23\n",
              "2480    23\n",
              "2481    23\n",
              "2482    23\n",
              "2483    23\n",
              "Name: Category_id, Length: 2484, dtype: int64"
            ]
          },
          "metadata": {},
          "execution_count": 19
        }
      ]
    },
    {
      "cell_type": "code",
      "source": [
        "labels,unique=data.Category.factorize()"
      ],
      "metadata": {
        "id": "E5en5Z6JTZ0X"
      },
      "execution_count": 20,
      "outputs": []
    },
    {
      "cell_type": "code",
      "source": [
        "class_mapping = dict(zip(unique, data[\"Category\"].unique()))"
      ],
      "metadata": {
        "id": "vf9G-RByTo4Y"
      },
      "execution_count": 21,
      "outputs": []
    },
    {
      "cell_type": "code",
      "source": [
        "print(class_mapping)"
      ],
      "metadata": {
        "colab": {
          "base_uri": "https://localhost:8080/"
        },
        "id": "9oRhT-0DTo8O",
        "outputId": "da969f64-d1f4-4d33-efa0-1e6eb46649da"
      },
      "execution_count": 22,
      "outputs": [
        {
          "output_type": "stream",
          "name": "stdout",
          "text": [
            "{'HR': 'HR', 'DESIGNER': 'DESIGNER', 'INFORMATION-TECHNOLOGY': 'INFORMATION-TECHNOLOGY', 'TEACHER': 'TEACHER', 'ADVOCATE': 'ADVOCATE', 'BUSINESS-DEVELOPMENT': 'BUSINESS-DEVELOPMENT', 'HEALTHCARE': 'HEALTHCARE', 'FITNESS': 'FITNESS', 'AGRICULTURE': 'AGRICULTURE', 'BPO': 'BPO', 'SALES': 'SALES', 'CONSULTANT': 'CONSULTANT', 'DIGITAL-MEDIA': 'DIGITAL-MEDIA', 'AUTOMOBILE': 'AUTOMOBILE', 'CHEF': 'CHEF', 'FINANCE': 'FINANCE', 'APPAREL': 'APPAREL', 'ENGINEERING': 'ENGINEERING', 'ACCOUNTANT': 'ACCOUNTANT', 'CONSTRUCTION': 'CONSTRUCTION', 'PUBLIC-RELATIONS': 'PUBLIC-RELATIONS', 'BANKING': 'BANKING', 'ARTS': 'ARTS', 'AVIATION': 'AVIATION'}\n"
          ]
        }
      ]
    },
    {
      "cell_type": "code",
      "execution_count": null,
      "metadata": {
        "id": "JB7dVvcGPMUs"
      },
      "outputs": [],
      "source": [
        "#Counting the total unique number of words in the whole datasets\n",
        "list_of_words=[]\n",
        "for c in data.tokenized_texts:\n",
        "  for j in c:\n",
        "    list_of_words.append(j)\n",
        "total_words=len(list(set(list_of_words)))\n",
        "print(total_words)"
      ]
    },
    {
      "cell_type": "code",
      "execution_count": null,
      "metadata": {
        "id": "zZm7vdfJAlqX"
      },
      "outputs": [],
      "source": [
        "wordfreq=nltk.FreqDist(list_of_words)"
      ]
    },
    {
      "cell_type": "code",
      "execution_count": null,
      "metadata": {
        "id": "eSN69A7tAvLU"
      },
      "outputs": [],
      "source": [
        "#Top 20 words which are used in the maximum in the resume\n",
        "commonwords=wordfreq.most_common(20)\n",
        "print(commonwords)"
      ]
    },
    {
      "cell_type": "markdown",
      "metadata": {
        "id": "uz_GUdco1apm"
      },
      "source": [
        "#Exploratory Data Analysis"
      ]
    },
    {
      "cell_type": "code",
      "execution_count": null,
      "metadata": {
        "id": "8qXZsHiHPZgH"
      },
      "outputs": [],
      "source": [
        "#Finding their distribution\n",
        "sns.countplot(x=data.Category_id,data=data)"
      ]
    },
    {
      "cell_type": "code",
      "execution_count": null,
      "metadata": {
        "colab": {
          "base_uri": "https://localhost:8080/"
        },
        "id": "WjCjn0D5_xcT",
        "outputId": "b9a59e1e-51b2-466f-f0d3-a66895fcb940"
      },
      "outputs": [
        {
          "data": {
            "text/plain": [
              "0      administrator marketing associate administrato...\n",
              "1      specialist operations summary versatile media ...\n",
              "2      director summary years experience recruiting p...\n",
              "3      specialist summary dedicated driven dynamic ye...\n",
              "4      manager skill highlights skills department sta...\n",
              "                             ...                        \n",
              "105    manager business partner summary human resourc...\n",
              "106    designation assistant professional summary hum...\n",
              "107    volunteer asst manager professional summary de...\n",
              "108    specialist horizontal engineer professional su...\n",
              "109    contact center specialist summary forward thin...\n",
              "Name: text_joined, Length: 110, dtype: object"
            ]
          },
          "execution_count": 26,
          "metadata": {},
          "output_type": "execute_result"
        }
      ],
      "source": [
        "data['text_joined'][data['Category']=='HR']"
      ]
    },
    {
      "cell_type": "markdown",
      "source": [
        " - About 44-48 percent of class are above the 1800 maxlen"
      ],
      "metadata": {
        "id": "RcAhv3J7k2GA"
      }
    },
    {
      "cell_type": "code",
      "execution_count": null,
      "metadata": {
        "colab": {
          "base_uri": "https://localhost:8080/"
        },
        "id": "6W-YCALj1azj",
        "outputId": "a5b6ca5c-5979-476f-d5b3-f60efc829f5c"
      },
      "outputs": [
        {
          "name": "stderr",
          "output_type": "stream",
          "text": [
            "[nltk_data] Downloading package punkt to /root/nltk_data...\n",
            "[nltk_data]   Package punkt is already up-to-date!\n"
          ]
        },
        {
          "name": "stdout",
          "output_type": "stream",
          "text": [
            "Class HR: tokenizer 5754 maxlen 2213\n",
            "Class INFORMATION-TECHNOLOGY: tokenizer 7221 maxlen 1877\n",
            "Class ADVOCATE: tokenizer 7044 maxlen 1857\n",
            "Class HEALTHCARE: tokenizer 7135 maxlen 1952\n",
            "Class DIGITAL-MEDIA: tokenizer 6501 maxlen 2218\n",
            "Class CHEF: tokenizer 6357 maxlen 3374\n",
            "Class FINANCE: tokenizer 6117 maxlen 1858\n",
            "Class ACCOUNTANT: tokenizer 5771 maxlen 2098\n",
            "Class CONSTRUCTION: tokenizer 7427 maxlen 2724\n",
            "Class PUBLIC-RELATIONS: tokenizer 7379 maxlen 3347\n"
          ]
        }
      ],
      "source": [
        "#Choosing the maximum length which are medium in all of the other class\n",
        "nltk.download('punkt')\n",
        "for x in data['Category'].unique():\n",
        "  tokenizer=Tokenizer()\n",
        "  tokenizer.fit_on_texts(data['text_joined'][data['Category']==x])\n",
        "  word_tokenize=tokenizer.word_index\n",
        "  #print(\"Class {}: tokenizer {}\".format(x,len(word_tokenize)))\n",
        "  maxlen=-1\n",
        "  for doc in data['text_joined'][data['Category']==x]:\n",
        "    tokens=nltk.word_tokenize(doc)\n",
        "    if maxlen<len(tokens):\n",
        "      maxlen=len(tokens)\n",
        "  if maxlen>=1800:\n",
        "    print(\"Class {}: tokenizer {} maxlen {}\".format(x,len(word_tokenize),maxlen))\n",
        "\n",
        "  #print(len(word_tokenize))"
      ]
    },
    {
      "cell_type": "markdown",
      "metadata": {
        "id": "HZexmskEPx1U"
      },
      "source": [
        "#Train test split"
      ]
    },
    {
      "cell_type": "code",
      "execution_count": 24,
      "metadata": {
        "id": "tdF_29UKPnh3"
      },
      "outputs": [],
      "source": [
        "#Spliting the class with balancing the class ratio using stratify for their imbalance class\n",
        "x_train,x_test,y_train,y_test=train_test_split(data.text_joined,data.Category_id,test_size=.2,stratify=data.Category_id,random_state=42)"
      ]
    },
    {
      "cell_type": "code",
      "execution_count": null,
      "metadata": {
        "colab": {
          "base_uri": "https://localhost:8080/"
        },
        "id": "Jh_1gFMeX8s-",
        "outputId": "b7e254cf-1548-45a1-c83b-0d14df09aab6"
      },
      "outputs": [
        {
          "data": {
            "text/plain": [
              "590     senior business development manager executive ...\n",
              "440     advocate summary depth knowledge taking orders...\n",
              "891     operations associate lisa phinney skills licen...\n",
              "1622    product photographer summary enthusiastic phot...\n",
              "1025    sales manager territory sales manager experien...\n",
              "                              ...                        \n",
              "1541    director finance executive profile senior fina...\n",
              "1591    finance operations manager summary dedicated a...\n",
              "582     founder business development director skills s...\n",
              "1377    head chef summary mature college student inter...\n",
              "1030    sales consultant summary current sophomore maj...\n",
              "Name: text_joined, Length: 1987, dtype: object"
            ]
          },
          "execution_count": 77,
          "metadata": {},
          "output_type": "execute_result"
        }
      ],
      "source": [
        "x_train"
      ]
    },
    {
      "cell_type": "code",
      "source": [
        "x_test.to_csv('test_data.csv',index=False)"
      ],
      "metadata": {
        "id": "oawZKj0cfi3n"
      },
      "execution_count": 25,
      "outputs": []
    },
    {
      "cell_type": "code",
      "source": [
        "y_test.to_csv('y_label.csv',index=False)\n",
        "#index=False)"
      ],
      "metadata": {
        "id": "Nc3nOxdAfnLR"
      },
      "execution_count": 26,
      "outputs": []
    },
    {
      "cell_type": "markdown",
      "metadata": {
        "id": "bJ9yixg7QKi5"
      },
      "source": [
        "#Tokenization"
      ]
    },
    {
      "cell_type": "code",
      "execution_count": 27,
      "metadata": {
        "id": "8G9A8TfOP849"
      },
      "outputs": [],
      "source": [
        "#total 20000 uniques will be use as a vocab size for the classifying the resume\n",
        "tokenizer=Tokenizer(num_words=20000)\n",
        "tokenizer.fit_on_texts(x_train)\n",
        "train_sequence=tokenizer.texts_to_sequences(x_train)\n",
        "test_sequence=tokenizer.texts_to_sequences(x_test)"
      ]
    },
    {
      "cell_type": "code",
      "source": [
        "#Storing the tokenizer for the future use\n",
        "tokenizer_json = tokenizer.to_json()\n",
        "with open('tokenizer.json', 'w') as json_file:\n",
        "    json_file.write(tokenizer_json)"
      ],
      "metadata": {
        "id": "3njIVhNdioMp"
      },
      "execution_count": 28,
      "outputs": []
    },
    {
      "cell_type": "code",
      "execution_count": 29,
      "metadata": {
        "id": "Or8NWH1-QE84"
      },
      "outputs": [],
      "source": [
        "#padding the length of the each resume\n",
        "padded_train=pad_sequences(train_sequence,maxlen=1800,padding='post')\n",
        "padded_test=pad_sequences(test_sequence,maxlen=1800,padding='post')"
      ]
    },
    {
      "cell_type": "code",
      "execution_count": null,
      "metadata": {
        "colab": {
          "base_uri": "https://localhost:8080/"
        },
        "id": "xNLuOwUVeEKX",
        "outputId": "d1b88c80-c549-4bfa-d667-55f13ebaa4c4"
      },
      "outputs": [
        {
          "data": {
            "text/plain": [
              "array([ 2, 18, 20, ...,  7, 16,  5])"
            ]
          },
          "execution_count": 96,
          "metadata": {},
          "output_type": "execute_result"
        }
      ],
      "source": [
        "y_train"
      ]
    },
    {
      "cell_type": "code",
      "execution_count": 33,
      "metadata": {
        "id": "cglA0mxIdy0R"
      },
      "outputs": [],
      "source": [
        "#For maintaing the class ratio in the validation data while choosing in the training time\n",
        "class_weights = compute_class_weight('balanced',classes=np.unique(data.Category_id), y=y_train)\n",
        "class_weight_dict =  dict(enumerate(class_weights))"
      ]
    },
    {
      "cell_type": "code",
      "execution_count": null,
      "metadata": {
        "colab": {
          "base_uri": "https://localhost:8080/"
        },
        "id": "A3h7SuvdQHT8",
        "outputId": "eb8d6171-7468-4fe4-bb3d-d30e631319f9"
      },
      "outputs": [
        {
          "output_type": "execute_result",
          "data": {
            "text/plain": [
              "30131"
            ]
          },
          "metadata": {},
          "execution_count": 35
        }
      ],
      "source": [
        "word_index=tokenizer.word_index\n",
        "len(word_index)"
      ]
    },
    {
      "cell_type": "code",
      "execution_count": null,
      "metadata": {
        "id": "4_8lXl_uQJzK"
      },
      "outputs": [],
      "source": [
        "#extracting the vector of the words from txt file\n",
        "embedding_index={}\n",
        "with open('glove.6B.100d.txt','r') as glove_file:\n",
        "  for line in glove_file:\n",
        "    values=line.split()\n",
        "    word=values[0]\n",
        "    coefs=np.array(values[1],dtype='float32')\n",
        "    embedding_index[word]=coefs"
      ]
    },
    {
      "cell_type": "code",
      "execution_count": null,
      "metadata": {
        "id": "GeH-qIdJSWK9"
      },
      "outputs": [],
      "source": [
        "#selecting the word for using as a weight in the training model for the vocab words\n",
        "embedding_matrix=np.zeros((20000,100))\n",
        "for word,i in word_index.items():\n",
        "  if i>19999:\n",
        "    continue\n",
        "  embedding_vectorized=embedding_index.get(word)\n",
        "  if embedding_vectorized is not None:\n",
        "    embedding_matrix[i]=embedding_vectorized"
      ]
    },
    {
      "cell_type": "code",
      "execution_count": null,
      "metadata": {
        "colab": {
          "base_uri": "https://localhost:8080/"
        },
        "id": "vo_sXBc5SgNQ",
        "outputId": "45e04b34-dd23-4516-c955-ec0f4318031a"
      },
      "outputs": [
        {
          "data": {
            "text/plain": [
              "((1987, 450), (497, 450))"
            ]
          },
          "execution_count": 49,
          "metadata": {},
          "output_type": "execute_result"
        }
      ],
      "source": [
        "padded_train.shape,padded_test.shape"
      ]
    },
    {
      "cell_type": "code",
      "execution_count": null,
      "metadata": {
        "id": "lkFugD8ITc9a"
      },
      "outputs": [],
      "source": []
    },
    {
      "cell_type": "markdown",
      "metadata": {
        "id": "UZRHM52YSzk2"
      },
      "source": [
        "#Model"
      ]
    },
    {
      "cell_type": "code",
      "execution_count": null,
      "metadata": {
        "id": "Eoe03ZLXSq5K"
      },
      "outputs": [],
      "source": [
        "# model=Sequential()\n",
        "# model.add(Embedding(3000,16,input_length=240))\n",
        "# # model.add(Conv1D(64,3,kernel_initializer='he_uniform'))\n",
        "# model.add(Bidirectional(LSTM(50)))\n",
        "# #model.add(Bidirectional(LSTM(64,return_sequences=True)))\n",
        "# # model.add(Dropout(.5))\n",
        "\n",
        "# # model.add(BatchNormalization())\n",
        "# # model.add(Activation('relu'))\n",
        "# # #model.add(Dropout(.5))\n",
        "\n",
        "# model.add(BatchNormalization())\n",
        "# model.add(Activation('relu'))\n",
        "# # #model.add(Dropout(.5))\n",
        "# model.add(Flatten())\n",
        "# model.add(Dense(108,activation='relu',kernel_initializer='he_uniform'))\n",
        "# # model.add(Dropout(.25))\n",
        "# # model.add(Dense(128,activation='relu',kernel_initializer='he_uniform'))\n",
        "# # model.add(Dropout(.5))\n",
        "# model.add(Dense(24,activation='softmax'))"
      ]
    },
    {
      "cell_type": "code",
      "execution_count": null,
      "metadata": {
        "id": "Jbe-apsWDf2n"
      },
      "outputs": [],
      "source": [
        "#early stopping the training for the poor validation loss\n",
        "early_stopping = EarlyStopping(monitor='val_acc', patience=30, restore_best_weights=True)"
      ]
    },
    {
      "cell_type": "code",
      "execution_count": 30,
      "metadata": {
        "id": "-ePCNtENEgBq"
      },
      "outputs": [],
      "source": [
        "#store the best model\n",
        "callback= [EarlyStopping(monitor='val_acc', patience=100),\n",
        "             ModelCheckpoint(filepath='model/model.epoch{epoch:02d}-acc{val_acc:.4f}.hdf5', monitor='val_acc', save_best_only=True,mode='max')]"
      ]
    },
    {
      "cell_type": "code",
      "execution_count": 31,
      "metadata": {
        "colab": {
          "base_uri": "https://localhost:8080/"
        },
        "id": "focnt8-zV8Ze",
        "outputId": "9cd6ca13-21c0-45f9-e1bb-019a3279d50f"
      },
      "outputs": [
        {
          "output_type": "stream",
          "name": "stderr",
          "text": [
            "WARNING:absl:`lr` is deprecated in Keras optimizer, please use `learning_rate` or use the legacy optimizer, e.g.,tf.keras.optimizers.legacy.Adam.\n"
          ]
        },
        {
          "output_type": "stream",
          "name": "stdout",
          "text": [
            "Model: \"sequential\"\n",
            "_________________________________________________________________\n",
            " Layer (type)                Output Shape              Param #   \n",
            "=================================================================\n",
            " embedding (Embedding)       (None, 1800, 50)          1000000   \n",
            "                                                                 \n",
            " bidirectional (Bidirectiona  (None, 1800, 200)        120800    \n",
            " l)                                                              \n",
            "                                                                 \n",
            " flatten (Flatten)           (None, 360000)            0         \n",
            "                                                                 \n",
            " dense (Dense)               (None, 100)               36000100  \n",
            "                                                                 \n",
            " dropout (Dropout)           (None, 100)               0         \n",
            "                                                                 \n",
            " dense_1 (Dense)             (None, 100)               10100     \n",
            "                                                                 \n",
            " dense_2 (Dense)             (None, 24)                2424      \n",
            "                                                                 \n",
            "=================================================================\n",
            "Total params: 37,133,424\n",
            "Trainable params: 37,133,424\n",
            "Non-trainable params: 0\n",
            "_________________________________________________________________\n"
          ]
        }
      ],
      "source": [
        "import tensorflow as tf\n",
        "model=tf.keras.Sequential([\n",
        "                           tf.keras.layers.Embedding(20000,0,input_length=1800),#,weights=[embedding_matrix],trainable=False),#trainable=False\n",
        "                           tf.keras.layers.Bidirectional(LSTM(100,return_sequences=True)),\n",
        "                           #tf.keras.layers.Bidirectional(LSTM(100,return_sequences=True)),\n",
        "                           #tf.keras.layers.GlobalAveragePooling1D(),\n",
        "                           tf.keras.layers.Flatten(),\n",
        "                           tf.keras.layers.Dense(100,activation='relu'),#,kernel_regularizer=tf.keras.regularizers.l1(l=.002)\n",
        "                           #tf.keras.layers.BatchNormalization(),\n",
        "                           tf.keras.layers.Dropout(.5),\n",
        "                           tf.keras.layers.Dense(100,activation='relu'),\n",
        "                           #tf.keras.layers.BatchNormalization(),\n",
        "                           #tf.keras.layers.Dropout(.5),\n",
        "                          #  tf.keras.layers.Dense(50,activation='relu'),\n",
        "                          #  tf.keras.layers.BatchNormalization(),\n",
        "                           #tf.keras.layers.Dropout(.5),\n",
        "                          #  tf.keras.layers.Dense(200,activation='relu',kernel_regularizer=tf.keras.regularizers.l1(l=.02)),\n",
        "                          #  tf.keras.layers.BatchNormalization(),\n",
        "                          # tf.keras.layers.Dropout(.5),\n",
        "                           tf.keras.layers.Dense(24,activation='softmax')\n",
        "\n",
        "])\n",
        "opt=tf.keras.optimizers.Adam(lr=.0001)\n",
        "model.compile(loss='sparse_categorical_crossentropy',optimizer=opt,metrics=['acc'])\n",
        "model.summary()"
      ]
    },
    {
      "cell_type": "code",
      "execution_count": 34,
      "metadata": {
        "colab": {
          "base_uri": "https://localhost:8080/"
        },
        "id": "1AYIfsumS3xr",
        "outputId": "fd3ba3d5-c259-4d7e-cde6-64a678ab3e7d"
      },
      "outputs": [
        {
          "output_type": "stream",
          "name": "stdout",
          "text": [
            "Epoch 1/1000\n",
            "50/50 [==============================] - 30s 396ms/step - loss: 3.2576 - acc: 0.0409 - val_loss: 3.1793 - val_acc: 0.0503\n",
            "Epoch 2/1000\n",
            "50/50 [==============================] - 20s 393ms/step - loss: 3.1576 - acc: 0.0510 - val_loss: 3.1463 - val_acc: 0.0678\n",
            "Epoch 3/1000\n",
            "50/50 [==============================] - 18s 357ms/step - loss: 3.0443 - acc: 0.1070 - val_loss: 3.0353 - val_acc: 0.0653\n",
            "Epoch 4/1000\n",
            "50/50 [==============================] - 17s 337ms/step - loss: 2.7405 - acc: 0.1857 - val_loss: 2.7003 - val_acc: 0.2940\n",
            "Epoch 5/1000\n",
            "50/50 [==============================] - 19s 376ms/step - loss: 2.0472 - acc: 0.3682 - val_loss: 2.0694 - val_acc: 0.4095\n",
            "Epoch 6/1000\n",
            "50/50 [==============================] - 19s 370ms/step - loss: 1.4335 - acc: 0.5488 - val_loss: 1.9003 - val_acc: 0.4698\n",
            "Epoch 7/1000\n",
            "50/50 [==============================] - 17s 338ms/step - loss: 0.7614 - acc: 0.7464 - val_loss: 1.8150 - val_acc: 0.5226\n",
            "Epoch 8/1000\n",
            "50/50 [==============================] - 13s 258ms/step - loss: 0.4241 - acc: 0.8540 - val_loss: 1.9434 - val_acc: 0.5176\n",
            "Epoch 9/1000\n",
            "50/50 [==============================] - 16s 330ms/step - loss: 0.2416 - acc: 0.9245 - val_loss: 2.0014 - val_acc: 0.5628\n",
            "Epoch 10/1000\n",
            "50/50 [==============================] - 18s 372ms/step - loss: 0.2134 - acc: 0.9289 - val_loss: 1.9644 - val_acc: 0.5653\n",
            "Epoch 11/1000\n",
            "50/50 [==============================] - 16s 318ms/step - loss: 0.1333 - acc: 0.9591 - val_loss: 2.2429 - val_acc: 0.5804\n",
            "Epoch 12/1000\n",
            "50/50 [==============================] - 19s 389ms/step - loss: 0.1489 - acc: 0.9528 - val_loss: 2.0530 - val_acc: 0.6055\n",
            "Epoch 13/1000\n",
            "50/50 [==============================] - 15s 299ms/step - loss: 0.0985 - acc: 0.9692 - val_loss: 2.1492 - val_acc: 0.6106\n",
            "Epoch 14/1000\n",
            "50/50 [==============================] - 13s 267ms/step - loss: 0.1369 - acc: 0.9660 - val_loss: 2.1123 - val_acc: 0.5628\n",
            "Epoch 15/1000\n",
            "50/50 [==============================] - 12s 247ms/step - loss: 0.0971 - acc: 0.9660 - val_loss: 2.3149 - val_acc: 0.5779\n",
            "Epoch 16/1000\n",
            "50/50 [==============================] - 12s 242ms/step - loss: 0.1252 - acc: 0.9666 - val_loss: 2.1610 - val_acc: 0.5879\n",
            "Epoch 17/1000\n",
            "50/50 [==============================] - 11s 215ms/step - loss: 0.0750 - acc: 0.9786 - val_loss: 2.4165 - val_acc: 0.5879\n",
            "Epoch 18/1000\n",
            "50/50 [==============================] - 11s 220ms/step - loss: 0.1011 - acc: 0.9717 - val_loss: 2.2256 - val_acc: 0.5980\n",
            "Epoch 19/1000\n",
            "50/50 [==============================] - 9s 179ms/step - loss: 0.1344 - acc: 0.9648 - val_loss: 2.6374 - val_acc: 0.5804\n",
            "Epoch 20/1000\n",
            "50/50 [==============================] - 13s 260ms/step - loss: 0.0695 - acc: 0.9780 - val_loss: 2.1854 - val_acc: 0.6281\n",
            "Epoch 21/1000\n",
            "50/50 [==============================] - 12s 234ms/step - loss: 0.0926 - acc: 0.9704 - val_loss: 2.4140 - val_acc: 0.5754\n",
            "Epoch 22/1000\n",
            "50/50 [==============================] - 10s 198ms/step - loss: 0.1125 - acc: 0.9755 - val_loss: 2.3481 - val_acc: 0.5603\n",
            "Epoch 23/1000\n",
            "50/50 [==============================] - 10s 200ms/step - loss: 0.1403 - acc: 0.9509 - val_loss: 2.2721 - val_acc: 0.6231\n",
            "Epoch 24/1000\n",
            "50/50 [==============================] - 10s 191ms/step - loss: 0.0494 - acc: 0.9830 - val_loss: 2.3949 - val_acc: 0.6181\n",
            "Epoch 25/1000\n",
            "50/50 [==============================] - 11s 215ms/step - loss: 0.0414 - acc: 0.9855 - val_loss: 2.3847 - val_acc: 0.6307\n",
            "Epoch 26/1000\n",
            "50/50 [==============================] - 14s 285ms/step - loss: 0.0527 - acc: 0.9836 - val_loss: 2.4033 - val_acc: 0.6357\n",
            "Epoch 27/1000\n",
            "50/50 [==============================] - 9s 184ms/step - loss: 0.0861 - acc: 0.9761 - val_loss: 2.2749 - val_acc: 0.6131\n",
            "Epoch 28/1000\n",
            "50/50 [==============================] - 11s 214ms/step - loss: 0.0761 - acc: 0.9817 - val_loss: 2.0420 - val_acc: 0.6231\n",
            "Epoch 29/1000\n",
            "50/50 [==============================] - 9s 171ms/step - loss: 0.0811 - acc: 0.9755 - val_loss: 2.2679 - val_acc: 0.6256\n",
            "Epoch 30/1000\n",
            "50/50 [==============================] - 9s 185ms/step - loss: 0.0703 - acc: 0.9780 - val_loss: 2.5028 - val_acc: 0.5955\n",
            "Epoch 31/1000\n",
            "50/50 [==============================] - 9s 177ms/step - loss: 0.0581 - acc: 0.9824 - val_loss: 2.3405 - val_acc: 0.6332\n",
            "Epoch 32/1000\n",
            "50/50 [==============================] - 10s 192ms/step - loss: 0.0453 - acc: 0.9868 - val_loss: 2.1875 - val_acc: 0.6482\n",
            "Epoch 33/1000\n",
            "50/50 [==============================] - 14s 284ms/step - loss: 0.0313 - acc: 0.9906 - val_loss: 2.1211 - val_acc: 0.6608\n",
            "Epoch 34/1000\n",
            "50/50 [==============================] - 10s 198ms/step - loss: 0.0452 - acc: 0.9880 - val_loss: 2.2555 - val_acc: 0.6533\n",
            "Epoch 35/1000\n",
            "50/50 [==============================] - 9s 172ms/step - loss: 0.0802 - acc: 0.9880 - val_loss: 2.6704 - val_acc: 0.5678\n",
            "Epoch 36/1000\n",
            "50/50 [==============================] - 14s 278ms/step - loss: 0.0734 - acc: 0.9792 - val_loss: 1.9897 - val_acc: 0.6683\n",
            "Epoch 37/1000\n",
            "50/50 [==============================] - 7s 147ms/step - loss: 0.0570 - acc: 0.9817 - val_loss: 2.0822 - val_acc: 0.6432\n",
            "Epoch 38/1000\n",
            "50/50 [==============================] - 9s 178ms/step - loss: 0.1277 - acc: 0.9742 - val_loss: 2.2813 - val_acc: 0.6307\n",
            "Epoch 39/1000\n",
            "50/50 [==============================] - 9s 181ms/step - loss: 0.0853 - acc: 0.9742 - val_loss: 2.7624 - val_acc: 0.6357\n",
            "Epoch 40/1000\n",
            "50/50 [==============================] - 8s 152ms/step - loss: 0.0673 - acc: 0.9780 - val_loss: 3.1710 - val_acc: 0.5905\n",
            "Epoch 41/1000\n",
            "50/50 [==============================] - 8s 168ms/step - loss: 0.0686 - acc: 0.9817 - val_loss: 2.4564 - val_acc: 0.6055\n",
            "Epoch 42/1000\n",
            "50/50 [==============================] - 7s 150ms/step - loss: 0.0557 - acc: 0.9868 - val_loss: 2.2723 - val_acc: 0.6633\n",
            "Epoch 43/1000\n",
            "50/50 [==============================] - 8s 165ms/step - loss: 0.0560 - acc: 0.9830 - val_loss: 2.4240 - val_acc: 0.6407\n",
            "Epoch 44/1000\n",
            "50/50 [==============================] - 12s 246ms/step - loss: 0.0491 - acc: 0.9824 - val_loss: 2.2943 - val_acc: 0.6759\n",
            "Epoch 45/1000\n",
            "50/50 [==============================] - 9s 172ms/step - loss: 0.0236 - acc: 0.9912 - val_loss: 2.5327 - val_acc: 0.6608\n",
            "Epoch 46/1000\n",
            "50/50 [==============================] - 13s 260ms/step - loss: 0.0273 - acc: 0.9912 - val_loss: 2.5976 - val_acc: 0.6784\n",
            "Epoch 47/1000\n",
            "50/50 [==============================] - 10s 201ms/step - loss: 0.1060 - acc: 0.9893 - val_loss: 2.0212 - val_acc: 0.6734\n",
            "Epoch 48/1000\n",
            "50/50 [==============================] - 8s 165ms/step - loss: 0.0313 - acc: 0.9912 - val_loss: 2.1690 - val_acc: 0.6608\n",
            "Epoch 49/1000\n",
            "50/50 [==============================] - 8s 153ms/step - loss: 0.0487 - acc: 0.9855 - val_loss: 2.7969 - val_acc: 0.6608\n",
            "Epoch 50/1000\n",
            "50/50 [==============================] - 10s 195ms/step - loss: 0.0377 - acc: 0.9893 - val_loss: 2.2970 - val_acc: 0.6910\n",
            "Epoch 51/1000\n",
            "50/50 [==============================] - 8s 151ms/step - loss: 0.0233 - acc: 0.9943 - val_loss: 2.5075 - val_acc: 0.6884\n",
            "Epoch 52/1000\n",
            "50/50 [==============================] - 8s 163ms/step - loss: 0.0509 - acc: 0.9924 - val_loss: 2.6118 - val_acc: 0.6482\n",
            "Epoch 53/1000\n",
            "50/50 [==============================] - 9s 175ms/step - loss: 0.0549 - acc: 0.9836 - val_loss: 2.1884 - val_acc: 0.6533\n",
            "Epoch 54/1000\n",
            "50/50 [==============================] - 7s 146ms/step - loss: 0.0581 - acc: 0.9824 - val_loss: 2.6802 - val_acc: 0.6256\n",
            "Epoch 55/1000\n",
            "50/50 [==============================] - 8s 164ms/step - loss: 0.0336 - acc: 0.9912 - val_loss: 2.6842 - val_acc: 0.6482\n",
            "Epoch 56/1000\n",
            "50/50 [==============================] - 9s 185ms/step - loss: 0.0670 - acc: 0.9792 - val_loss: 2.5094 - val_acc: 0.6407\n",
            "Epoch 57/1000\n",
            "50/50 [==============================] - 8s 152ms/step - loss: 0.0451 - acc: 0.9887 - val_loss: 2.5441 - val_acc: 0.6709\n",
            "Epoch 58/1000\n",
            "50/50 [==============================] - 8s 158ms/step - loss: 0.0517 - acc: 0.9849 - val_loss: 2.4457 - val_acc: 0.6508\n",
            "Epoch 59/1000\n",
            "50/50 [==============================] - 7s 146ms/step - loss: 0.0705 - acc: 0.9868 - val_loss: 2.6161 - val_acc: 0.6533\n",
            "Epoch 60/1000\n",
            "50/50 [==============================] - 7s 139ms/step - loss: 0.0432 - acc: 0.9918 - val_loss: 2.4038 - val_acc: 0.6709\n",
            "Epoch 61/1000\n",
            "50/50 [==============================] - 11s 223ms/step - loss: 0.0265 - acc: 0.9918 - val_loss: 2.4812 - val_acc: 0.7060\n",
            "Epoch 62/1000\n",
            "50/50 [==============================] - 8s 150ms/step - loss: 0.0566 - acc: 0.9862 - val_loss: 2.4338 - val_acc: 0.6784\n",
            "Epoch 63/1000\n",
            "50/50 [==============================] - 8s 166ms/step - loss: 0.1386 - acc: 0.9723 - val_loss: 2.4548 - val_acc: 0.6759\n",
            "Epoch 64/1000\n",
            "50/50 [==============================] - 7s 146ms/step - loss: 0.0485 - acc: 0.9843 - val_loss: 2.9776 - val_acc: 0.6935\n",
            "Epoch 65/1000\n",
            "50/50 [==============================] - 8s 168ms/step - loss: 0.0534 - acc: 0.9843 - val_loss: 2.9307 - val_acc: 0.6583\n",
            "Epoch 66/1000\n",
            "50/50 [==============================] - 8s 170ms/step - loss: 0.0972 - acc: 0.9767 - val_loss: 2.3251 - val_acc: 0.6884\n",
            "Epoch 67/1000\n",
            "50/50 [==============================] - 7s 146ms/step - loss: 0.0790 - acc: 0.9736 - val_loss: 3.1903 - val_acc: 0.6432\n",
            "Epoch 68/1000\n",
            "50/50 [==============================] - 8s 158ms/step - loss: 0.0766 - acc: 0.9830 - val_loss: 2.5542 - val_acc: 0.6583\n",
            "Epoch 69/1000\n",
            "50/50 [==============================] - 8s 152ms/step - loss: 0.0648 - acc: 0.9836 - val_loss: 2.9243 - val_acc: 0.6709\n",
            "Epoch 70/1000\n",
            "50/50 [==============================] - 7s 139ms/step - loss: 0.0619 - acc: 0.9824 - val_loss: 2.9812 - val_acc: 0.6859\n",
            "Epoch 71/1000\n",
            "50/50 [==============================] - 7s 139ms/step - loss: 0.0890 - acc: 0.9830 - val_loss: 3.1092 - val_acc: 0.6181\n",
            "Epoch 72/1000\n",
            "50/50 [==============================] - 7s 150ms/step - loss: 0.0724 - acc: 0.9843 - val_loss: 3.2201 - val_acc: 0.6633\n",
            "Epoch 73/1000\n",
            "50/50 [==============================] - 8s 156ms/step - loss: 0.0633 - acc: 0.9887 - val_loss: 2.7224 - val_acc: 0.6834\n",
            "Epoch 74/1000\n",
            "50/50 [==============================] - 8s 153ms/step - loss: 0.0716 - acc: 0.9906 - val_loss: 2.8869 - val_acc: 0.6784\n",
            "Epoch 75/1000\n",
            "50/50 [==============================] - 8s 156ms/step - loss: 0.1436 - acc: 0.9849 - val_loss: 2.8029 - val_acc: 0.6734\n",
            "Epoch 76/1000\n",
            "50/50 [==============================] - 8s 154ms/step - loss: 0.0589 - acc: 0.9824 - val_loss: 2.8539 - val_acc: 0.6558\n",
            "Epoch 77/1000\n",
            "50/50 [==============================] - 7s 142ms/step - loss: 0.0589 - acc: 0.9843 - val_loss: 2.7809 - val_acc: 0.6910\n",
            "Epoch 78/1000\n",
            "50/50 [==============================] - 7s 144ms/step - loss: 0.0636 - acc: 0.9874 - val_loss: 3.0846 - val_acc: 0.6558\n",
            "Epoch 79/1000\n",
            "50/50 [==============================] - 7s 146ms/step - loss: 0.0261 - acc: 0.9931 - val_loss: 2.7190 - val_acc: 0.6935\n",
            "Epoch 80/1000\n",
            "50/50 [==============================] - 8s 152ms/step - loss: 0.0568 - acc: 0.9918 - val_loss: 3.1225 - val_acc: 0.6759\n",
            "Epoch 81/1000\n",
            "50/50 [==============================] - 8s 152ms/step - loss: 0.0454 - acc: 0.9868 - val_loss: 2.7494 - val_acc: 0.6884\n",
            "Epoch 82/1000\n",
            "50/50 [==============================] - 8s 160ms/step - loss: 0.0550 - acc: 0.9843 - val_loss: 3.4150 - val_acc: 0.6608\n",
            "Epoch 83/1000\n",
            "50/50 [==============================] - 7s 147ms/step - loss: 0.0544 - acc: 0.9855 - val_loss: 3.8797 - val_acc: 0.6432\n",
            "Epoch 84/1000\n",
            "50/50 [==============================] - 8s 155ms/step - loss: 0.0450 - acc: 0.9899 - val_loss: 3.1352 - val_acc: 0.6834\n",
            "Epoch 85/1000\n",
            "50/50 [==============================] - 7s 142ms/step - loss: 0.1549 - acc: 0.9849 - val_loss: 3.1185 - val_acc: 0.6583\n",
            "Epoch 86/1000\n",
            "50/50 [==============================] - 7s 146ms/step - loss: 0.0619 - acc: 0.9893 - val_loss: 3.0958 - val_acc: 0.6583\n",
            "Epoch 87/1000\n",
            "50/50 [==============================] - 7s 146ms/step - loss: 0.0273 - acc: 0.9924 - val_loss: 2.7219 - val_acc: 0.6809\n",
            "Epoch 88/1000\n",
            "50/50 [==============================] - 8s 155ms/step - loss: 0.0168 - acc: 0.9943 - val_loss: 2.9584 - val_acc: 0.6784\n",
            "Epoch 89/1000\n",
            "50/50 [==============================] - 7s 134ms/step - loss: 0.0533 - acc: 0.9862 - val_loss: 2.9925 - val_acc: 0.6734\n",
            "Epoch 90/1000\n",
            "50/50 [==============================] - 8s 157ms/step - loss: 0.1332 - acc: 0.9817 - val_loss: 2.7908 - val_acc: 0.6759\n",
            "Epoch 91/1000\n",
            "50/50 [==============================] - 11s 222ms/step - loss: 0.0433 - acc: 0.9880 - val_loss: 2.7930 - val_acc: 0.7161\n",
            "Epoch 92/1000\n",
            "50/50 [==============================] - 8s 153ms/step - loss: 0.0576 - acc: 0.9924 - val_loss: 3.3047 - val_acc: 0.6734\n",
            "Epoch 93/1000\n",
            "50/50 [==============================] - 8s 160ms/step - loss: 0.0466 - acc: 0.9855 - val_loss: 2.8737 - val_acc: 0.6759\n",
            "Epoch 94/1000\n",
            "50/50 [==============================] - 7s 145ms/step - loss: 0.0290 - acc: 0.9924 - val_loss: 3.7961 - val_acc: 0.6859\n",
            "Epoch 95/1000\n",
            "50/50 [==============================] - 7s 143ms/step - loss: 0.0736 - acc: 0.9868 - val_loss: 3.3034 - val_acc: 0.6784\n",
            "Epoch 96/1000\n",
            "50/50 [==============================] - 8s 158ms/step - loss: 0.0635 - acc: 0.9855 - val_loss: 3.0259 - val_acc: 0.6910\n",
            "Epoch 97/1000\n",
            "50/50 [==============================] - 7s 145ms/step - loss: 0.0403 - acc: 0.9893 - val_loss: 3.1621 - val_acc: 0.6985\n",
            "Epoch 98/1000\n",
            "50/50 [==============================] - 8s 151ms/step - loss: 0.0159 - acc: 0.9943 - val_loss: 3.2446 - val_acc: 0.7035\n",
            "Epoch 99/1000\n",
            "50/50 [==============================] - 7s 148ms/step - loss: 0.0353 - acc: 0.9950 - val_loss: 3.3525 - val_acc: 0.6834\n",
            "Epoch 100/1000\n",
            "50/50 [==============================] - 7s 150ms/step - loss: 0.0308 - acc: 0.9899 - val_loss: 3.1219 - val_acc: 0.7136\n",
            "Epoch 101/1000\n",
            "50/50 [==============================] - 7s 132ms/step - loss: 0.0746 - acc: 0.9887 - val_loss: 3.7006 - val_acc: 0.6734\n",
            "Epoch 102/1000\n",
            "50/50 [==============================] - 7s 140ms/step - loss: 0.0571 - acc: 0.9893 - val_loss: 3.1894 - val_acc: 0.6734\n",
            "Epoch 103/1000\n",
            "50/50 [==============================] - 7s 142ms/step - loss: 0.0620 - acc: 0.9862 - val_loss: 3.1741 - val_acc: 0.6960\n",
            "Epoch 104/1000\n",
            "50/50 [==============================] - 8s 154ms/step - loss: 0.0438 - acc: 0.9880 - val_loss: 3.4284 - val_acc: 0.7035\n",
            "Epoch 105/1000\n",
            "50/50 [==============================] - 7s 133ms/step - loss: 0.0592 - acc: 0.9887 - val_loss: 3.2977 - val_acc: 0.6859\n",
            "Epoch 106/1000\n",
            "50/50 [==============================] - 7s 144ms/step - loss: 0.0432 - acc: 0.9918 - val_loss: 2.9543 - val_acc: 0.7161\n",
            "Epoch 107/1000\n",
            "50/50 [==============================] - 7s 139ms/step - loss: 0.0360 - acc: 0.9918 - val_loss: 3.2368 - val_acc: 0.6960\n",
            "Epoch 108/1000\n",
            "50/50 [==============================] - 8s 155ms/step - loss: 0.0193 - acc: 0.9962 - val_loss: 3.1542 - val_acc: 0.7085\n",
            "Epoch 109/1000\n",
            "50/50 [==============================] - 11s 223ms/step - loss: 0.0942 - acc: 0.9874 - val_loss: 2.8120 - val_acc: 0.7211\n",
            "Epoch 110/1000\n",
            "50/50 [==============================] - 7s 141ms/step - loss: 0.0370 - acc: 0.9893 - val_loss: 3.9175 - val_acc: 0.6759\n",
            "Epoch 111/1000\n",
            "50/50 [==============================] - 8s 163ms/step - loss: 0.0516 - acc: 0.9880 - val_loss: 2.8658 - val_acc: 0.6884\n",
            "Epoch 112/1000\n",
            "50/50 [==============================] - 8s 158ms/step - loss: 0.0401 - acc: 0.9893 - val_loss: 3.2579 - val_acc: 0.6683\n",
            "Epoch 113/1000\n",
            "50/50 [==============================] - 7s 137ms/step - loss: 0.0400 - acc: 0.9874 - val_loss: 3.2358 - val_acc: 0.7010\n",
            "Epoch 114/1000\n",
            "50/50 [==============================] - 8s 162ms/step - loss: 0.0483 - acc: 0.9937 - val_loss: 2.9795 - val_acc: 0.7085\n",
            "Epoch 115/1000\n",
            "50/50 [==============================] - 7s 138ms/step - loss: 0.0429 - acc: 0.9912 - val_loss: 3.2345 - val_acc: 0.7060\n",
            "Epoch 116/1000\n",
            "50/50 [==============================] - 7s 137ms/step - loss: 0.0445 - acc: 0.9912 - val_loss: 2.6563 - val_acc: 0.7211\n",
            "Epoch 117/1000\n",
            "50/50 [==============================] - 7s 150ms/step - loss: 0.0558 - acc: 0.9912 - val_loss: 3.3447 - val_acc: 0.6533\n",
            "Epoch 118/1000\n",
            "50/50 [==============================] - 7s 146ms/step - loss: 0.0341 - acc: 0.9906 - val_loss: 3.3988 - val_acc: 0.7111\n",
            "Epoch 119/1000\n",
            "50/50 [==============================] - 7s 134ms/step - loss: 0.0276 - acc: 0.9943 - val_loss: 3.7271 - val_acc: 0.6834\n",
            "Epoch 120/1000\n",
            "50/50 [==============================] - 9s 180ms/step - loss: 0.0298 - acc: 0.9924 - val_loss: 3.1034 - val_acc: 0.7261\n",
            "Epoch 121/1000\n",
            "50/50 [==============================] - 7s 145ms/step - loss: 0.0167 - acc: 0.9956 - val_loss: 3.9329 - val_acc: 0.7136\n",
            "Epoch 122/1000\n",
            "50/50 [==============================] - 8s 166ms/step - loss: 0.0387 - acc: 0.9962 - val_loss: 3.0170 - val_acc: 0.7010\n",
            "Epoch 123/1000\n",
            "50/50 [==============================] - 8s 154ms/step - loss: 0.0771 - acc: 0.9918 - val_loss: 3.5771 - val_acc: 0.6960\n",
            "Epoch 124/1000\n",
            "50/50 [==============================] - 7s 144ms/step - loss: 0.1123 - acc: 0.9799 - val_loss: 3.7837 - val_acc: 0.6508\n",
            "Epoch 125/1000\n",
            "50/50 [==============================] - 7s 143ms/step - loss: 0.1042 - acc: 0.9805 - val_loss: 3.1091 - val_acc: 0.6809\n",
            "Epoch 126/1000\n",
            "50/50 [==============================] - 7s 134ms/step - loss: 0.0829 - acc: 0.9855 - val_loss: 3.0743 - val_acc: 0.6709\n",
            "Epoch 127/1000\n",
            "50/50 [==============================] - 7s 146ms/step - loss: 0.0616 - acc: 0.9906 - val_loss: 3.4543 - val_acc: 0.6935\n",
            "Epoch 128/1000\n",
            "50/50 [==============================] - 7s 139ms/step - loss: 0.1071 - acc: 0.9849 - val_loss: 3.6180 - val_acc: 0.6985\n",
            "Epoch 129/1000\n",
            "50/50 [==============================] - 7s 150ms/step - loss: 0.0519 - acc: 0.9843 - val_loss: 3.4948 - val_acc: 0.6935\n",
            "Epoch 130/1000\n",
            "50/50 [==============================] - 7s 134ms/step - loss: 0.0418 - acc: 0.9899 - val_loss: 3.7180 - val_acc: 0.6734\n",
            "Epoch 131/1000\n",
            "50/50 [==============================] - 7s 147ms/step - loss: 0.0387 - acc: 0.9931 - val_loss: 2.8900 - val_acc: 0.7236\n",
            "Epoch 132/1000\n",
            "50/50 [==============================] - 7s 138ms/step - loss: 0.0116 - acc: 0.9950 - val_loss: 3.4060 - val_acc: 0.6985\n",
            "Epoch 133/1000\n",
            "50/50 [==============================] - 7s 150ms/step - loss: 0.0392 - acc: 0.9924 - val_loss: 3.6318 - val_acc: 0.6985\n",
            "Epoch 134/1000\n",
            "50/50 [==============================] - 7s 135ms/step - loss: 0.0283 - acc: 0.9918 - val_loss: 2.9363 - val_acc: 0.7236\n",
            "Epoch 135/1000\n",
            "50/50 [==============================] - 7s 147ms/step - loss: 0.0751 - acc: 0.9906 - val_loss: 3.4140 - val_acc: 0.6985\n",
            "Epoch 136/1000\n",
            "50/50 [==============================] - 8s 156ms/step - loss: 0.0517 - acc: 0.9912 - val_loss: 3.2112 - val_acc: 0.7161\n",
            "Epoch 137/1000\n",
            "50/50 [==============================] - 7s 146ms/step - loss: 0.0120 - acc: 0.9950 - val_loss: 3.5700 - val_acc: 0.6709\n",
            "Epoch 138/1000\n",
            "50/50 [==============================] - 10s 197ms/step - loss: 0.0799 - acc: 0.9862 - val_loss: 2.4601 - val_acc: 0.7337\n",
            "Epoch 139/1000\n",
            "50/50 [==============================] - 7s 134ms/step - loss: 0.0256 - acc: 0.9931 - val_loss: 3.2311 - val_acc: 0.7286\n",
            "Epoch 140/1000\n",
            "50/50 [==============================] - 7s 147ms/step - loss: 0.0491 - acc: 0.9899 - val_loss: 2.9659 - val_acc: 0.7085\n",
            "Epoch 141/1000\n",
            "50/50 [==============================] - 7s 146ms/step - loss: 0.0366 - acc: 0.9931 - val_loss: 3.5259 - val_acc: 0.6960\n",
            "Epoch 142/1000\n",
            "50/50 [==============================] - 7s 145ms/step - loss: 0.0327 - acc: 0.9912 - val_loss: 3.2176 - val_acc: 0.7286\n",
            "Epoch 143/1000\n",
            "50/50 [==============================] - 7s 130ms/step - loss: 0.0261 - acc: 0.9924 - val_loss: 2.6936 - val_acc: 0.7312\n",
            "Epoch 144/1000\n",
            "50/50 [==============================] - 7s 144ms/step - loss: 0.0321 - acc: 0.9931 - val_loss: 3.0620 - val_acc: 0.7060\n",
            "Epoch 145/1000\n",
            "50/50 [==============================] - 7s 131ms/step - loss: 0.0375 - acc: 0.9937 - val_loss: 3.0099 - val_acc: 0.7211\n",
            "Epoch 146/1000\n",
            "50/50 [==============================] - 7s 141ms/step - loss: 0.0667 - acc: 0.9912 - val_loss: 2.8395 - val_acc: 0.7211\n",
            "Epoch 147/1000\n",
            "50/50 [==============================] - 8s 151ms/step - loss: 0.0416 - acc: 0.9943 - val_loss: 2.9656 - val_acc: 0.7010\n",
            "Epoch 148/1000\n",
            "50/50 [==============================] - 7s 146ms/step - loss: 0.0629 - acc: 0.9893 - val_loss: 3.1466 - val_acc: 0.6985\n",
            "Epoch 149/1000\n",
            "50/50 [==============================] - 7s 143ms/step - loss: 0.0410 - acc: 0.9887 - val_loss: 3.2232 - val_acc: 0.7085\n",
            "Epoch 150/1000\n",
            "50/50 [==============================] - 7s 147ms/step - loss: 0.0768 - acc: 0.9893 - val_loss: 3.4880 - val_acc: 0.7085\n",
            "Epoch 151/1000\n",
            "50/50 [==============================] - 8s 155ms/step - loss: 0.0521 - acc: 0.9899 - val_loss: 2.8108 - val_acc: 0.7035\n",
            "Epoch 152/1000\n",
            "50/50 [==============================] - 6s 130ms/step - loss: 0.0411 - acc: 0.9912 - val_loss: 2.5837 - val_acc: 0.7261\n",
            "Epoch 153/1000\n",
            "50/50 [==============================] - 7s 140ms/step - loss: 0.0328 - acc: 0.9918 - val_loss: 2.5757 - val_acc: 0.7211\n",
            "Epoch 154/1000\n",
            "50/50 [==============================] - 6s 130ms/step - loss: 0.0175 - acc: 0.9937 - val_loss: 2.9918 - val_acc: 0.7261\n",
            "Epoch 155/1000\n",
            "50/50 [==============================] - 7s 141ms/step - loss: 0.0283 - acc: 0.9887 - val_loss: 3.1196 - val_acc: 0.7186\n",
            "Epoch 156/1000\n",
            "50/50 [==============================] - 7s 134ms/step - loss: 0.0178 - acc: 0.9943 - val_loss: 3.7726 - val_acc: 0.7186\n",
            "Epoch 157/1000\n",
            "50/50 [==============================] - 7s 141ms/step - loss: 0.0357 - acc: 0.9937 - val_loss: 3.3463 - val_acc: 0.7010\n",
            "Epoch 158/1000\n",
            "50/50 [==============================] - 12s 243ms/step - loss: 0.0657 - acc: 0.9912 - val_loss: 3.4976 - val_acc: 0.7362\n",
            "Epoch 159/1000\n",
            "50/50 [==============================] - 7s 133ms/step - loss: 0.0439 - acc: 0.9874 - val_loss: 3.2150 - val_acc: 0.7312\n",
            "Epoch 160/1000\n",
            "50/50 [==============================] - 8s 166ms/step - loss: 0.0853 - acc: 0.9824 - val_loss: 2.7971 - val_acc: 0.6960\n",
            "Epoch 161/1000\n",
            "50/50 [==============================] - 7s 142ms/step - loss: 0.0351 - acc: 0.9906 - val_loss: 2.8304 - val_acc: 0.7085\n",
            "Epoch 162/1000\n",
            "50/50 [==============================] - 7s 137ms/step - loss: 0.0192 - acc: 0.9969 - val_loss: 3.3416 - val_acc: 0.7211\n",
            "Epoch 163/1000\n",
            "50/50 [==============================] - 7s 135ms/step - loss: 0.0631 - acc: 0.9899 - val_loss: 3.1775 - val_acc: 0.7261\n",
            "Epoch 164/1000\n",
            "50/50 [==============================] - 7s 141ms/step - loss: 0.0645 - acc: 0.9899 - val_loss: 4.5605 - val_acc: 0.6935\n",
            "Epoch 165/1000\n",
            "50/50 [==============================] - 7s 139ms/step - loss: 0.0683 - acc: 0.9899 - val_loss: 3.6678 - val_acc: 0.7035\n",
            "Epoch 166/1000\n",
            "50/50 [==============================] - 7s 140ms/step - loss: 0.0214 - acc: 0.9924 - val_loss: 3.4840 - val_acc: 0.7362\n",
            "Epoch 167/1000\n",
            "50/50 [==============================] - 7s 138ms/step - loss: 0.0829 - acc: 0.9887 - val_loss: 3.7776 - val_acc: 0.7286\n",
            "Epoch 168/1000\n",
            "50/50 [==============================] - 7s 143ms/step - loss: 0.0570 - acc: 0.9893 - val_loss: 3.2345 - val_acc: 0.7236\n",
            "Epoch 169/1000\n",
            "50/50 [==============================] - 7s 136ms/step - loss: 0.0490 - acc: 0.9899 - val_loss: 3.0828 - val_acc: 0.7362\n",
            "Epoch 170/1000\n",
            "50/50 [==============================] - 7s 141ms/step - loss: 0.0774 - acc: 0.9868 - val_loss: 3.1828 - val_acc: 0.7211\n",
            "Epoch 171/1000\n",
            "50/50 [==============================] - 7s 136ms/step - loss: 0.0349 - acc: 0.9943 - val_loss: 4.3083 - val_acc: 0.7136\n",
            "Epoch 172/1000\n",
            "50/50 [==============================] - 7s 145ms/step - loss: 0.0748 - acc: 0.9937 - val_loss: 3.0239 - val_acc: 0.6910\n",
            "Epoch 173/1000\n",
            "50/50 [==============================] - 10s 200ms/step - loss: 0.0333 - acc: 0.9899 - val_loss: 2.5309 - val_acc: 0.7437\n",
            "Epoch 174/1000\n",
            "50/50 [==============================] - 9s 171ms/step - loss: 0.0130 - acc: 0.9962 - val_loss: 3.0530 - val_acc: 0.7513\n",
            "Epoch 175/1000\n",
            "50/50 [==============================] - 12s 243ms/step - loss: 0.0184 - acc: 0.9956 - val_loss: 2.8155 - val_acc: 0.7613\n",
            "Epoch 176/1000\n",
            "50/50 [==============================] - 7s 143ms/step - loss: 0.0331 - acc: 0.9943 - val_loss: 2.9369 - val_acc: 0.7337\n",
            "Epoch 177/1000\n",
            "50/50 [==============================] - 7s 145ms/step - loss: 0.0456 - acc: 0.9943 - val_loss: 2.7295 - val_acc: 0.7513\n",
            "Epoch 178/1000\n",
            "50/50 [==============================] - 7s 141ms/step - loss: 0.0407 - acc: 0.9943 - val_loss: 2.8858 - val_acc: 0.7035\n",
            "Epoch 179/1000\n",
            "50/50 [==============================] - 7s 137ms/step - loss: 0.0211 - acc: 0.9924 - val_loss: 2.9891 - val_acc: 0.7337\n",
            "Epoch 180/1000\n",
            "50/50 [==============================] - 7s 144ms/step - loss: 0.0199 - acc: 0.9950 - val_loss: 3.0709 - val_acc: 0.7286\n",
            "Epoch 181/1000\n",
            "50/50 [==============================] - 7s 135ms/step - loss: 0.0251 - acc: 0.9918 - val_loss: 3.2113 - val_acc: 0.7437\n",
            "Epoch 182/1000\n",
            "50/50 [==============================] - 7s 150ms/step - loss: 0.0976 - acc: 0.9880 - val_loss: 3.7866 - val_acc: 0.7387\n",
            "Epoch 183/1000\n",
            "50/50 [==============================] - 7s 140ms/step - loss: 0.0612 - acc: 0.9906 - val_loss: 3.5314 - val_acc: 0.7085\n",
            "Epoch 184/1000\n",
            "50/50 [==============================] - 7s 135ms/step - loss: 0.0422 - acc: 0.9924 - val_loss: 3.2700 - val_acc: 0.7362\n",
            "Epoch 185/1000\n",
            "50/50 [==============================] - 7s 132ms/step - loss: 0.0127 - acc: 0.9962 - val_loss: 2.9966 - val_acc: 0.7487\n",
            "Epoch 186/1000\n",
            "50/50 [==============================] - 7s 141ms/step - loss: 0.0257 - acc: 0.9956 - val_loss: 3.3776 - val_acc: 0.7261\n",
            "Epoch 187/1000\n",
            "50/50 [==============================] - 7s 150ms/step - loss: 0.0441 - acc: 0.9943 - val_loss: 3.4723 - val_acc: 0.7462\n",
            "Epoch 188/1000\n",
            "50/50 [==============================] - 7s 140ms/step - loss: 0.0204 - acc: 0.9969 - val_loss: 2.8057 - val_acc: 0.7613\n",
            "Epoch 189/1000\n",
            "50/50 [==============================] - 12s 251ms/step - loss: 0.0092 - acc: 0.9981 - val_loss: 2.8528 - val_acc: 0.7688\n",
            "Epoch 190/1000\n",
            "50/50 [==============================] - 8s 157ms/step - loss: 0.0572 - acc: 0.9937 - val_loss: 3.2034 - val_acc: 0.7236\n",
            "Epoch 191/1000\n",
            "50/50 [==============================] - 8s 150ms/step - loss: 0.0406 - acc: 0.9962 - val_loss: 3.4562 - val_acc: 0.7186\n",
            "Epoch 192/1000\n",
            "50/50 [==============================] - 7s 148ms/step - loss: 0.0142 - acc: 0.9962 - val_loss: 3.5118 - val_acc: 0.7312\n",
            "Epoch 193/1000\n",
            "50/50 [==============================] - 7s 141ms/step - loss: 0.0635 - acc: 0.9899 - val_loss: 3.4695 - val_acc: 0.7236\n",
            "Epoch 194/1000\n",
            "50/50 [==============================] - 7s 147ms/step - loss: 0.0668 - acc: 0.9918 - val_loss: 3.8084 - val_acc: 0.7136\n",
            "Epoch 195/1000\n",
            "50/50 [==============================] - 7s 132ms/step - loss: 0.0506 - acc: 0.9899 - val_loss: 3.8509 - val_acc: 0.7236\n",
            "Epoch 196/1000\n",
            "50/50 [==============================] - 7s 142ms/step - loss: 0.1845 - acc: 0.9918 - val_loss: 2.8664 - val_acc: 0.7161\n",
            "Epoch 197/1000\n",
            "50/50 [==============================] - 6s 130ms/step - loss: 0.0427 - acc: 0.9899 - val_loss: 3.4125 - val_acc: 0.7261\n",
            "Epoch 198/1000\n",
            "50/50 [==============================] - 7s 149ms/step - loss: 0.0216 - acc: 0.9956 - val_loss: 3.2959 - val_acc: 0.7286\n",
            "Epoch 199/1000\n",
            "50/50 [==============================] - 6s 130ms/step - loss: 0.0398 - acc: 0.9906 - val_loss: 3.2322 - val_acc: 0.7211\n",
            "Epoch 200/1000\n",
            "50/50 [==============================] - 8s 151ms/step - loss: 0.0308 - acc: 0.9937 - val_loss: 3.2593 - val_acc: 0.7337\n",
            "Epoch 201/1000\n",
            "50/50 [==============================] - 7s 135ms/step - loss: 0.0576 - acc: 0.9906 - val_loss: 3.7060 - val_acc: 0.7035\n",
            "Epoch 202/1000\n",
            "50/50 [==============================] - 7s 147ms/step - loss: 0.0337 - acc: 0.9906 - val_loss: 4.0369 - val_acc: 0.7236\n",
            "Epoch 203/1000\n",
            "50/50 [==============================] - 7s 134ms/step - loss: 0.0445 - acc: 0.9906 - val_loss: 2.9913 - val_acc: 0.7211\n",
            "Epoch 204/1000\n",
            "50/50 [==============================] - 7s 140ms/step - loss: 0.0313 - acc: 0.9950 - val_loss: 3.5365 - val_acc: 0.7387\n",
            "Epoch 205/1000\n",
            "50/50 [==============================] - 7s 132ms/step - loss: 0.0550 - acc: 0.9906 - val_loss: 3.5861 - val_acc: 0.7010\n",
            "Epoch 206/1000\n",
            "50/50 [==============================] - 7s 140ms/step - loss: 0.0440 - acc: 0.9887 - val_loss: 3.6058 - val_acc: 0.7387\n",
            "Epoch 207/1000\n",
            "50/50 [==============================] - 7s 139ms/step - loss: 0.0233 - acc: 0.9962 - val_loss: 3.5386 - val_acc: 0.7261\n",
            "Epoch 208/1000\n",
            "50/50 [==============================] - 7s 141ms/step - loss: 0.0334 - acc: 0.9937 - val_loss: 3.4973 - val_acc: 0.7387\n",
            "Epoch 209/1000\n",
            "50/50 [==============================] - 7s 144ms/step - loss: 0.0479 - acc: 0.9899 - val_loss: 3.3604 - val_acc: 0.7085\n",
            "Epoch 210/1000\n",
            "50/50 [==============================] - 7s 138ms/step - loss: 0.0908 - acc: 0.9912 - val_loss: 3.1207 - val_acc: 0.7035\n",
            "Epoch 211/1000\n",
            "50/50 [==============================] - 7s 132ms/step - loss: 0.0203 - acc: 0.9956 - val_loss: 3.4166 - val_acc: 0.6960\n",
            "Epoch 212/1000\n",
            "50/50 [==============================] - 7s 140ms/step - loss: 0.0733 - acc: 0.9912 - val_loss: 4.0134 - val_acc: 0.7035\n",
            "Epoch 213/1000\n",
            "50/50 [==============================] - 8s 160ms/step - loss: 0.0485 - acc: 0.9924 - val_loss: 3.2672 - val_acc: 0.7261\n",
            "Epoch 214/1000\n",
            "50/50 [==============================] - 7s 140ms/step - loss: 0.1047 - acc: 0.9887 - val_loss: 2.8721 - val_acc: 0.7161\n",
            "Epoch 215/1000\n",
            "50/50 [==============================] - 7s 148ms/step - loss: 0.0283 - acc: 0.9937 - val_loss: 3.6293 - val_acc: 0.7286\n",
            "Epoch 216/1000\n",
            "50/50 [==============================] - 7s 136ms/step - loss: 0.0248 - acc: 0.9969 - val_loss: 3.2513 - val_acc: 0.7437\n",
            "Epoch 217/1000\n",
            "50/50 [==============================] - 7s 138ms/step - loss: 0.0227 - acc: 0.9962 - val_loss: 3.1316 - val_acc: 0.7337\n",
            "Epoch 218/1000\n",
            "50/50 [==============================] - 7s 136ms/step - loss: 0.0360 - acc: 0.9950 - val_loss: 3.0735 - val_acc: 0.7211\n",
            "Epoch 219/1000\n",
            "50/50 [==============================] - 7s 143ms/step - loss: 0.0298 - acc: 0.9918 - val_loss: 3.2274 - val_acc: 0.7111\n",
            "Epoch 220/1000\n",
            "50/50 [==============================] - 7s 137ms/step - loss: 0.0152 - acc: 0.9962 - val_loss: 3.1502 - val_acc: 0.7337\n",
            "Epoch 221/1000\n",
            "50/50 [==============================] - 7s 139ms/step - loss: 0.0151 - acc: 0.9950 - val_loss: 2.8968 - val_acc: 0.7211\n",
            "Epoch 222/1000\n",
            "50/50 [==============================] - 8s 159ms/step - loss: 0.0416 - acc: 0.9937 - val_loss: 3.1644 - val_acc: 0.7513\n",
            "Epoch 223/1000\n",
            "50/50 [==============================] - 7s 140ms/step - loss: 0.0424 - acc: 0.9931 - val_loss: 3.3249 - val_acc: 0.7362\n",
            "Epoch 224/1000\n",
            "50/50 [==============================] - 7s 139ms/step - loss: 0.0159 - acc: 0.9956 - val_loss: 2.8877 - val_acc: 0.7437\n",
            "Epoch 225/1000\n",
            "50/50 [==============================] - 8s 152ms/step - loss: 0.0473 - acc: 0.9924 - val_loss: 2.9076 - val_acc: 0.7362\n",
            "Epoch 226/1000\n",
            "50/50 [==============================] - 7s 134ms/step - loss: 0.0212 - acc: 0.9950 - val_loss: 2.9252 - val_acc: 0.7412\n",
            "Epoch 227/1000\n",
            "50/50 [==============================] - 7s 141ms/step - loss: 0.0177 - acc: 0.9956 - val_loss: 3.0768 - val_acc: 0.7462\n",
            "Epoch 228/1000\n",
            "50/50 [==============================] - 7s 131ms/step - loss: 0.0149 - acc: 0.9962 - val_loss: 3.3806 - val_acc: 0.7312\n",
            "Epoch 229/1000\n",
            "50/50 [==============================] - 7s 141ms/step - loss: 0.0435 - acc: 0.9943 - val_loss: 3.2423 - val_acc: 0.7538\n",
            "Epoch 230/1000\n",
            "50/50 [==============================] - 7s 143ms/step - loss: 0.0285 - acc: 0.9937 - val_loss: 3.0539 - val_acc: 0.7487\n",
            "Epoch 231/1000\n",
            "50/50 [==============================] - 7s 148ms/step - loss: 0.0280 - acc: 0.9950 - val_loss: 2.7697 - val_acc: 0.7362\n",
            "Epoch 232/1000\n",
            "50/50 [==============================] - 7s 132ms/step - loss: 0.0332 - acc: 0.9956 - val_loss: 3.0438 - val_acc: 0.7387\n",
            "Epoch 233/1000\n",
            "50/50 [==============================] - 7s 136ms/step - loss: 0.0108 - acc: 0.9987 - val_loss: 2.9749 - val_acc: 0.7487\n",
            "Epoch 234/1000\n",
            "50/50 [==============================] - 8s 154ms/step - loss: 0.0115 - acc: 0.9975 - val_loss: 3.1783 - val_acc: 0.7613\n",
            "Epoch 235/1000\n",
            "50/50 [==============================] - 7s 137ms/step - loss: 0.0252 - acc: 0.9931 - val_loss: 3.7303 - val_acc: 0.7085\n",
            "Epoch 236/1000\n",
            "50/50 [==============================] - 7s 142ms/step - loss: 0.0213 - acc: 0.9962 - val_loss: 3.2188 - val_acc: 0.7663\n",
            "Epoch 237/1000\n",
            "50/50 [==============================] - 7s 142ms/step - loss: 0.0081 - acc: 0.9969 - val_loss: 3.5060 - val_acc: 0.7412\n",
            "Epoch 238/1000\n",
            "50/50 [==============================] - 7s 143ms/step - loss: 0.0363 - acc: 0.9956 - val_loss: 3.4334 - val_acc: 0.7462\n",
            "Epoch 239/1000\n",
            "50/50 [==============================] - 7s 138ms/step - loss: 0.0197 - acc: 0.9950 - val_loss: 2.9877 - val_acc: 0.7588\n",
            "Epoch 240/1000\n",
            "50/50 [==============================] - 8s 154ms/step - loss: 0.0030 - acc: 0.9994 - val_loss: 3.2002 - val_acc: 0.7563\n",
            "Epoch 241/1000\n",
            "50/50 [==============================] - 7s 139ms/step - loss: 0.0098 - acc: 0.9975 - val_loss: 2.9373 - val_acc: 0.7487\n",
            "Epoch 242/1000\n",
            "50/50 [==============================] - 7s 136ms/step - loss: 0.0125 - acc: 0.9962 - val_loss: 3.3244 - val_acc: 0.7161\n",
            "Epoch 243/1000\n",
            "50/50 [==============================] - 7s 135ms/step - loss: 0.0771 - acc: 0.9937 - val_loss: 3.3047 - val_acc: 0.7437\n",
            "Epoch 244/1000\n",
            "50/50 [==============================] - 7s 139ms/step - loss: 0.0405 - acc: 0.9943 - val_loss: 3.1607 - val_acc: 0.7211\n",
            "Epoch 245/1000\n",
            "50/50 [==============================] - 7s 130ms/step - loss: 0.0477 - acc: 0.9931 - val_loss: 3.1088 - val_acc: 0.7513\n",
            "Epoch 246/1000\n",
            "50/50 [==============================] - 7s 147ms/step - loss: 0.0726 - acc: 0.9931 - val_loss: 2.7970 - val_acc: 0.7286\n",
            "Epoch 247/1000\n",
            "50/50 [==============================] - 7s 135ms/step - loss: 0.0263 - acc: 0.9956 - val_loss: 3.0981 - val_acc: 0.7538\n",
            "Epoch 248/1000\n",
            "50/50 [==============================] - 8s 159ms/step - loss: 0.0379 - acc: 0.9931 - val_loss: 3.1195 - val_acc: 0.7387\n",
            "Epoch 249/1000\n",
            "50/50 [==============================] - 7s 130ms/step - loss: 0.0213 - acc: 0.9962 - val_loss: 3.3305 - val_acc: 0.7312\n",
            "Epoch 250/1000\n",
            "50/50 [==============================] - 7s 140ms/step - loss: 0.0166 - acc: 0.9962 - val_loss: 3.5671 - val_acc: 0.7513\n",
            "Epoch 251/1000\n",
            "50/50 [==============================] - 7s 140ms/step - loss: 0.0577 - acc: 0.9918 - val_loss: 4.1593 - val_acc: 0.7085\n",
            "Epoch 252/1000\n",
            "50/50 [==============================] - 7s 139ms/step - loss: 0.0541 - acc: 0.9893 - val_loss: 3.7832 - val_acc: 0.7211\n",
            "Epoch 253/1000\n",
            "50/50 [==============================] - 7s 131ms/step - loss: 0.0775 - acc: 0.9893 - val_loss: 5.4184 - val_acc: 0.6859\n",
            "Epoch 254/1000\n",
            "50/50 [==============================] - 7s 142ms/step - loss: 0.0349 - acc: 0.9931 - val_loss: 3.4926 - val_acc: 0.7261\n",
            "Epoch 255/1000\n",
            "50/50 [==============================] - 7s 132ms/step - loss: 0.0183 - acc: 0.9950 - val_loss: 3.5236 - val_acc: 0.7337\n",
            "Epoch 256/1000\n",
            "50/50 [==============================] - 7s 144ms/step - loss: 0.0459 - acc: 0.9950 - val_loss: 3.8787 - val_acc: 0.7412\n",
            "Epoch 257/1000\n",
            "50/50 [==============================] - 7s 136ms/step - loss: 0.0232 - acc: 0.9950 - val_loss: 3.9543 - val_acc: 0.7387\n",
            "Epoch 258/1000\n",
            "50/50 [==============================] - 7s 142ms/step - loss: 0.0282 - acc: 0.9943 - val_loss: 3.8549 - val_acc: 0.7563\n",
            "Epoch 259/1000\n",
            "50/50 [==============================] - 7s 136ms/step - loss: 0.0063 - acc: 0.9969 - val_loss: 3.5422 - val_acc: 0.7487\n",
            "Epoch 260/1000\n",
            "50/50 [==============================] - 7s 139ms/step - loss: 0.0770 - acc: 0.9912 - val_loss: 4.2513 - val_acc: 0.7362\n",
            "Epoch 261/1000\n",
            "50/50 [==============================] - 7s 143ms/step - loss: 0.0213 - acc: 0.9950 - val_loss: 4.4701 - val_acc: 0.7261\n",
            "Epoch 262/1000\n",
            "50/50 [==============================] - 7s 143ms/step - loss: 0.0359 - acc: 0.9931 - val_loss: 3.4246 - val_acc: 0.7312\n",
            "Epoch 263/1000\n",
            "50/50 [==============================] - 8s 154ms/step - loss: 0.0114 - acc: 0.9962 - val_loss: 3.3301 - val_acc: 0.7387\n",
            "Epoch 264/1000\n",
            "50/50 [==============================] - 7s 136ms/step - loss: 0.0163 - acc: 0.9956 - val_loss: 3.8349 - val_acc: 0.7085\n",
            "Epoch 265/1000\n",
            "50/50 [==============================] - 7s 150ms/step - loss: 0.0337 - acc: 0.9937 - val_loss: 3.4815 - val_acc: 0.7060\n",
            "Epoch 266/1000\n",
            "50/50 [==============================] - 7s 137ms/step - loss: 0.0207 - acc: 0.9937 - val_loss: 3.7072 - val_acc: 0.7136\n",
            "Epoch 267/1000\n",
            "50/50 [==============================] - 7s 144ms/step - loss: 0.0090 - acc: 0.9981 - val_loss: 3.6604 - val_acc: 0.7362\n",
            "Epoch 268/1000\n",
            "50/50 [==============================] - 7s 139ms/step - loss: 0.0253 - acc: 0.9950 - val_loss: 3.5581 - val_acc: 0.7412\n",
            "Epoch 269/1000\n",
            "50/50 [==============================] - 7s 145ms/step - loss: 0.0129 - acc: 0.9981 - val_loss: 3.7148 - val_acc: 0.7312\n",
            "Epoch 270/1000\n",
            "50/50 [==============================] - 7s 139ms/step - loss: 0.0061 - acc: 0.9981 - val_loss: 3.5737 - val_acc: 0.7236\n",
            "Epoch 271/1000\n",
            "50/50 [==============================] - 7s 147ms/step - loss: 0.0264 - acc: 0.9950 - val_loss: 3.5008 - val_acc: 0.7387\n",
            "Epoch 272/1000\n",
            "50/50 [==============================] - 7s 135ms/step - loss: 0.0311 - acc: 0.9969 - val_loss: 3.2077 - val_acc: 0.7261\n",
            "Epoch 273/1000\n",
            "50/50 [==============================] - 7s 141ms/step - loss: 0.0066 - acc: 0.9975 - val_loss: 3.2202 - val_acc: 0.7286\n",
            "Epoch 274/1000\n",
            "50/50 [==============================] - 7s 131ms/step - loss: 0.0225 - acc: 0.9943 - val_loss: 3.5376 - val_acc: 0.7337\n",
            "Epoch 275/1000\n",
            "50/50 [==============================] - 7s 142ms/step - loss: 0.0397 - acc: 0.9931 - val_loss: 3.9410 - val_acc: 0.7261\n",
            "Epoch 276/1000\n",
            "50/50 [==============================] - 7s 148ms/step - loss: 0.0314 - acc: 0.9962 - val_loss: 3.5339 - val_acc: 0.7312\n",
            "Epoch 277/1000\n",
            "50/50 [==============================] - 7s 142ms/step - loss: 0.0179 - acc: 0.9950 - val_loss: 3.4848 - val_acc: 0.7261\n",
            "Epoch 278/1000\n",
            "50/50 [==============================] - 7s 135ms/step - loss: 0.0211 - acc: 0.9950 - val_loss: 3.3572 - val_acc: 0.7362\n",
            "Epoch 279/1000\n",
            "50/50 [==============================] - 7s 137ms/step - loss: 0.0428 - acc: 0.9906 - val_loss: 3.1696 - val_acc: 0.7111\n",
            "Epoch 280/1000\n",
            "50/50 [==============================] - 7s 137ms/step - loss: 0.0127 - acc: 0.9975 - val_loss: 3.6234 - val_acc: 0.7161\n",
            "Epoch 281/1000\n",
            "50/50 [==============================] - 7s 140ms/step - loss: 0.0309 - acc: 0.9956 - val_loss: 4.3691 - val_acc: 0.7085\n",
            "Epoch 282/1000\n",
            "50/50 [==============================] - 8s 155ms/step - loss: 0.0419 - acc: 0.9943 - val_loss: 4.2044 - val_acc: 0.7060\n",
            "Epoch 283/1000\n",
            "50/50 [==============================] - 7s 135ms/step - loss: 0.0143 - acc: 0.9969 - val_loss: 3.4813 - val_acc: 0.7387\n",
            "Epoch 284/1000\n",
            "50/50 [==============================] - 7s 136ms/step - loss: 0.0911 - acc: 0.9924 - val_loss: 3.8300 - val_acc: 0.7035\n",
            "Epoch 285/1000\n",
            "50/50 [==============================] - 7s 139ms/step - loss: 0.0254 - acc: 0.9937 - val_loss: 3.9782 - val_acc: 0.7286\n",
            "Epoch 286/1000\n",
            "50/50 [==============================] - 8s 155ms/step - loss: 0.0235 - acc: 0.9962 - val_loss: 4.1243 - val_acc: 0.7362\n",
            "Epoch 287/1000\n",
            "50/50 [==============================] - 7s 142ms/step - loss: 0.0105 - acc: 0.9956 - val_loss: 3.7191 - val_acc: 0.7437\n",
            "Epoch 288/1000\n",
            "50/50 [==============================] - 7s 145ms/step - loss: 0.0361 - acc: 0.9950 - val_loss: 3.6334 - val_acc: 0.7161\n",
            "Epoch 289/1000\n",
            "50/50 [==============================] - 7s 136ms/step - loss: 0.0029 - acc: 0.9981 - val_loss: 3.3213 - val_acc: 0.7236\n"
          ]
        }
      ],
      "source": [
        "history=model.fit(padded_train,y_train,validation_split=.2,class_weight=class_weight_dict,batch_size=32,epochs=1000,callbacks=[callback])"
      ]
    },
    {
      "cell_type": "code",
      "source": [
        "plt.figure(figsize=(10, 6))\n",
        "\n",
        "# Plot training loss\n",
        "plt.subplot(1, 2, 1)\n",
        "plt.plot(history.history['loss'], label='Training Loss')\n",
        "plt.plot(history.history['val_loss'], label='Validation Loss')\n",
        "plt.xlabel('Epoch')\n",
        "plt.ylabel('Loss')\n",
        "plt.title('Training and Validation Loss')\n",
        "plt.legend()\n",
        "\n",
        "# Plot training accuracy\n",
        "plt.subplot(1, 2, 2)\n",
        "plt.plot(history.history['acc'], label='Training Accuracy')\n",
        "plt.plot(history.history['val_acc'], label='Validation Accuracy')\n",
        "plt.xlabel('Epoch')\n",
        "plt.ylabel('Accuracy')\n",
        "plt.title('Training and Validation Accuracy')\n",
        "plt.legend()\n",
        "\n",
        "plt.tight_layout()\n",
        "plt.show()"
      ],
      "metadata": {
        "colab": {
          "base_uri": "https://localhost:8080/",
          "height": 607
        },
        "id": "0DTi7uKKUoI9",
        "outputId": "1d8e8e95-a59b-47ee-aa0b-30d83ee37e49"
      },
      "execution_count": 35,
      "outputs": [
        {
          "output_type": "display_data",
          "data": {
            "text/plain": [
              "<Figure size 1000x600 with 2 Axes>"
            ],
            "image/png": "[encoded data removed]"
          },
          "metadata": {}
        }
      ]
    },
    {
      "cell_type": "markdown",
      "source": [
        "#Predicting the test data"
      ],
      "metadata": {
        "id": "arAufZuUnKz8"
      }
    },
    {
      "cell_type": "code",
      "source": [
        "y_predict=model.predict(padded_test)"
      ],
      "metadata": {
        "colab": {
          "base_uri": "https://localhost:8080/"
        },
        "id": "hqo0A16pSZVu",
        "outputId": "aa117666-f600-4085-ede3-434e48c7ec63"
      },
      "execution_count": 36,
      "outputs": [
        {
          "output_type": "stream",
          "name": "stdout",
          "text": [
            "16/16 [==============================] - 1s 48ms/step\n"
          ]
        }
      ]
    },
    {
      "cell_type": "code",
      "source": [
        "result=[]\n",
        "for i in range(y_predict.shape[0]):\n",
        "    pred= np.argmax(y_predict[i])\n",
        "    result.append(pred)"
      ],
      "metadata": {
        "id": "CQlxb7YMStoQ"
      },
      "execution_count": 37,
      "outputs": []
    },
    {
      "cell_type": "code",
      "source": [
        "predict = pd.DataFrame()\n",
        "predict[\"label\"] = result\n",
        "\n",
        "predict.head()"
      ],
      "metadata": {
        "colab": {
          "base_uri": "https://localhost:8080/",
          "height": 206
        },
        "id": "gYG_UI9ZSw_5",
        "outputId": "30f7c05e-1a7f-47b3-dcee-90e86004c236"
      },
      "execution_count": 38,
      "outputs": [
        {
          "output_type": "execute_result",
          "data": {
            "text/plain": [
              "   label\n",
              "0      5\n",
              "1     14\n",
              "2     11\n",
              "3     18\n",
              "4     10"
            ],
            "text/html": [
              "\n",
              "\n",
              "  <div id=\"df-35671188-3ac0-4b1e-9d0c-f02486466d0a\">\n",
              "    <div class=\"colab-df-container\">\n",
              "      <div>\n",
              "<style scoped>\n",
              "    .dataframe tbody tr th:only-of-type {\n",
              "        vertical-align: middle;\n",
              "    }\n",
              "\n",
              "    .dataframe tbody tr th {\n",
              "        vertical-align: top;\n",
              "    }\n",
              "\n",
              "    .dataframe thead th {\n",
              "        text-align: right;\n",
              "    }\n",
              "</style>\n",
              "<table border=\"1\" class=\"dataframe\">\n",
              "  <thead>\n",
              "    <tr style=\"text-align: right;\">\n",
              "      <th></th>\n",
              "      <th>label</th>\n",
              "    </tr>\n",
              "  </thead>\n",
              "  <tbody>\n",
              "    <tr>\n",
              "      <th>0</th>\n",
              "      <td>5</td>\n",
              "    </tr>\n",
              "    <tr>\n",
              "      <th>1</th>\n",
              "      <td>14</td>\n",
              "    </tr>\n",
              "    <tr>\n",
              "      <th>2</th>\n",
              "      <td>11</td>\n",
              "    </tr>\n",
              "    <tr>\n",
              "      <th>3</th>\n",
              "      <td>18</td>\n",
              "    </tr>\n",
              "    <tr>\n",
              "      <th>4</th>\n",
              "      <td>10</td>\n",
              "    </tr>\n",
              "  </tbody>\n",
              "</table>\n",
              "</div>\n",
              "      <button class=\"colab-df-convert\" onclick=\"convertToInteractive('df-35671188-3ac0-4b1e-9d0c-f02486466d0a')\"\n",
              "              title=\"Convert this dataframe to an interactive table.\"\n",
              "              style=\"display:none;\">\n",
              "\n",
              "  <svg xmlns=\"http://www.w3.org/2000/svg\" height=\"24px\"viewBox=\"0 0 24 24\"\n",
              "       width=\"24px\">\n",
              "    <path d=\"M0 0h24v24H0V0z\" fill=\"none\"/>\n",
              "    <path d=\"M18.56 5.44l.94 2.06.94-2.06 2.06-.94-2.06-.94-.94-2.06-.94 2.06-2.06.94zm-11 1L8.5 8.5l.94-2.06 2.06-.94-2.06-.94L8.5 2.5l-.94 2.06-2.06.94zm10 10l.94 2.06.94-2.06 2.06-.94-2.06-.94-.94-2.06-.94 2.06-2.06.94z\"/><path d=\"M17.41 7.96l-1.37-1.37c-.4-.4-.92-.59-1.43-.59-.52 0-1.04.2-1.43.59L10.3 9.45l-7.72 7.72c-.78.78-.78 2.05 0 2.83L4 21.41c.39.39.9.59 1.41.59.51 0 1.02-.2 1.41-.59l7.78-7.78 2.81-2.81c.8-.78.8-2.07 0-2.86zM5.41 20L4 18.59l7.72-7.72 1.47 1.35L5.41 20z\"/>\n",
              "  </svg>\n",
              "      </button>\n",
              "\n",
              "\n",
              "\n",
              "    <div id=\"df-feceefde-21c4-4869-93c5-c49d68834a5f\">\n",
              "      <button class=\"colab-df-quickchart\" onclick=\"quickchart('df-feceefde-21c4-4869-93c5-c49d68834a5f')\"\n",
              "              title=\"Suggest charts.\"\n",
              "              style=\"display:none;\">\n",
              "\n",
              "<svg xmlns=\"http://www.w3.org/2000/svg\" height=\"24px\"viewBox=\"0 0 24 24\"\n",
              "     width=\"24px\">\n",
              "    <g>\n",
              "        <path d=\"M19 3H5c-1.1 0-2 .9-2 2v14c0 1.1.9 2 2 2h14c1.1 0 2-.9 2-2V5c0-1.1-.9-2-2-2zM9 17H7v-7h2v7zm4 0h-2V7h2v10zm4 0h-2v-4h2v4z\"/>\n",
              "    </g>\n",
              "</svg>\n",
              "      </button>\n",
              "    </div>\n",
              "\n",
              "<style>\n",
              "  .colab-df-quickchart {\n",
              "    background-color: #E8F0FE;\n",
              "    border: none;\n",
              "    border-radius: 50%;\n",
              "    cursor: pointer;\n",
              "    display: none;\n",
              "    fill: #1967D2;\n",
              "    height: 32px;\n",
              "    padding: 0 0 0 0;\n",
              "    width: 32px;\n",
              "  }\n",
              "\n",
              "  .colab-df-quickchart:hover {\n",
              "    background-color: #E2EBFA;\n",
              "    box-shadow: 0px 1px 2px rgba(60, 64, 67, 0.3), 0px 1px 3px 1px rgba(60, 64, 67, 0.15);\n",
              "    fill: #174EA6;\n",
              "  }\n",
              "\n",
              "  [theme=dark] .colab-df-quickchart {\n",
              "    background-color: #3B4455;\n",
              "    fill: #D2E3FC;\n",
              "  }\n",
              "\n",
              "  [theme=dark] .colab-df-quickchart:hover {\n",
              "    background-color: #434B5C;\n",
              "    box-shadow: 0px 1px 3px 1px rgba(0, 0, 0, 0.15);\n",
              "    filter: drop-shadow(0px 1px 2px rgba(0, 0, 0, 0.3));\n",
              "    fill: #FFFFFF;\n",
              "  }\n",
              "</style>\n",
              "\n",
              "    <script>\n",
              "      async function quickchart(key) {\n",
              "        const containerElement = document.querySelector('#' + key);\n",
              "        const charts = await google.colab.kernel.invokeFunction(\n",
              "            'suggestCharts', [key], {});\n",
              "      }\n",
              "    </script>\n",
              "\n",
              "      <script>\n",
              "\n",
              "function displayQuickchartButton(domScope) {\n",
              "  let quickchartButtonEl =\n",
              "    domScope.querySelector('#df-feceefde-21c4-4869-93c5-c49d68834a5f button.colab-df-quickchart');\n",
              "  quickchartButtonEl.style.display =\n",
              "    google.colab.kernel.accessAllowed ? 'block' : 'none';\n",
              "}\n",
              "\n",
              "        displayQuickchartButton(document);\n",
              "      </script>\n",
              "      <style>\n",
              "    .colab-df-container {\n",
              "      display:flex;\n",
              "      flex-wrap:wrap;\n",
              "      gap: 12px;\n",
              "    }\n",
              "\n",
              "    .colab-df-convert {\n",
              "      background-color: #E8F0FE;\n",
              "      border: none;\n",
              "      border-radius: 50%;\n",
              "      cursor: pointer;\n",
              "      display: none;\n",
              "      fill: #1967D2;\n",
              "      height: 32px;\n",
              "      padding: 0 0 0 0;\n",
              "      width: 32px;\n",
              "    }\n",
              "\n",
              "    .colab-df-convert:hover {\n",
              "      background-color: #E2EBFA;\n",
              "      box-shadow: 0px 1px 2px rgba(60, 64, 67, 0.3), 0px 1px 3px 1px rgba(60, 64, 67, 0.15);\n",
              "      fill: #174EA6;\n",
              "    }\n",
              "\n",
              "    [theme=dark] .colab-df-convert {\n",
              "      background-color: #3B4455;\n",
              "      fill: #D2E3FC;\n",
              "    }\n",
              "\n",
              "    [theme=dark] .colab-df-convert:hover {\n",
              "      background-color: #434B5C;\n",
              "      box-shadow: 0px 1px 3px 1px rgba(0, 0, 0, 0.15);\n",
              "      filter: drop-shadow(0px 1px 2px rgba(0, 0, 0, 0.3));\n",
              "      fill: #FFFFFF;\n",
              "    }\n",
              "  </style>\n",
              "\n",
              "      <script>\n",
              "        const buttonEl =\n",
              "          document.querySelector('#df-35671188-3ac0-4b1e-9d0c-f02486466d0a button.colab-df-convert');\n",
              "        buttonEl.style.display =\n",
              "          google.colab.kernel.accessAllowed ? 'block' : 'none';\n",
              "\n",
              "        async function convertToInteractive(key) {\n",
              "          const element = document.querySelector('#df-35671188-3ac0-4b1e-9d0c-f02486466d0a');\n",
              "          const dataTable =\n",
              "            await google.colab.kernel.invokeFunction('convertToInteractive',\n",
              "                                                     [key], {});\n",
              "          if (!dataTable) return;\n",
              "\n",
              "          const docLinkHtml = 'Like what you see? Visit the ' +\n",
              "            '<a target=\"_blank\" href=https://colab.research.google.com/notebooks/data_table.ipynb>data table notebook</a>'\n",
              "            + ' to learn more about interactive tables.';\n",
              "          element.innerHTML = '';\n",
              "          dataTable['output_type'] = 'display_data';\n",
              "          await google.colab.output.renderOutput(dataTable, element);\n",
              "          const docLink = document.createElement('div');\n",
              "          docLink.innerHTML = docLinkHtml;\n",
              "          element.appendChild(docLink);\n",
              "        }\n",
              "      </script>\n",
              "    </div>\n",
              "  </div>\n"
            ]
          },
          "metadata": {},
          "execution_count": 38
        }
      ]
    },
    {
      "cell_type": "code",
      "source": [
        "class_names=['HR', 'DESIGNER', 'INFORMATION-TECHNOLOGY', 'TEACHER', 'ADVOCATE', 'BUSINESS-DEVELOPMENT', 'HEALTHCARE', 'FITNESS', 'AGRICULTURE', 'BPO', 'SALES', 'CONSULTANT', 'DIGITAL-MEDIA', 'AUTOMOBILE', 'CHEF', 'FINANCE', 'APPAREL', 'ENGINEERING', 'ACCOUNTANT', 'CONSTRUCTION', 'PUBLIC-RELATIONS', 'BANKING', 'ARTS','AVIATION']"
      ],
      "metadata": {
        "id": "PzhR0CfGrJ8I"
      },
      "execution_count": 40,
      "outputs": []
    },
    {
      "cell_type": "markdown",
      "source": [
        "#Classfication Report of the model"
      ],
      "metadata": {
        "id": "exp3pkApnCPd"
      }
    },
    {
      "cell_type": "code",
      "source": [
        "report=classification_report(y_test,predict,target_names=class_names)\n",
        "print(report)"
      ],
      "metadata": {
        "colab": {
          "base_uri": "https://localhost:8080/"
        },
        "id": "KIvkm8NFrKAO",
        "outputId": "e759ab79-6a02-433f-fe39-5ac6172732fc"
      },
      "execution_count": 42,
      "outputs": [
        {
          "output_type": "stream",
          "name": "stdout",
          "text": [
            "                        precision    recall  f1-score   support\n",
            "\n",
            "                    HR       0.67      0.64      0.65        22\n",
            "              DESIGNER       0.95      1.00      0.98        21\n",
            "INFORMATION-TECHNOLOGY       0.77      0.83      0.80        24\n",
            "               TEACHER       0.67      1.00      0.80        20\n",
            "              ADVOCATE       0.94      0.67      0.78        24\n",
            "  BUSINESS-DEVELOPMENT       0.50      1.00      0.67        24\n",
            "            HEALTHCARE       0.67      0.61      0.64        23\n",
            "               FITNESS       0.80      0.67      0.73        24\n",
            "           AGRICULTURE       0.44      0.31      0.36        13\n",
            "                   BPO       0.00      0.00      0.00         4\n",
            "                 SALES       0.51      0.91      0.66        23\n",
            "            CONSULTANT       0.88      0.91      0.89        23\n",
            "         DIGITAL-MEDIA       0.45      0.74      0.56        19\n",
            "            AUTOMOBILE       0.00      0.00      0.00         7\n",
            "                  CHEF       1.00      0.88      0.93        24\n",
            "               FINANCE       0.92      1.00      0.96        24\n",
            "               APPAREL       0.67      0.53      0.59        19\n",
            "           ENGINEERING       0.96      0.96      0.96        24\n",
            "            ACCOUNTANT       0.96      1.00      0.98        24\n",
            "          CONSTRUCTION       0.94      0.73      0.82        22\n",
            "      PUBLIC-RELATIONS       0.75      0.55      0.63        22\n",
            "               BANKING       0.75      0.52      0.62        23\n",
            "                  ARTS       0.50      0.05      0.09        21\n",
            "              AVIATION       0.74      0.74      0.74        23\n",
            "\n",
            "              accuracy                           0.73       497\n",
            "             macro avg       0.68      0.68      0.66       497\n",
            "          weighted avg       0.74      0.73      0.72       497\n",
            "\n"
          ]
        }
      ]
    },
    {
      "cell_type": "markdown",
      "source": [
        "###tuner for finding optimal dense units for the model"
      ],
      "metadata": {
        "id": "E11Eb_OLm6-g"
      }
    },
    {
      "cell_type": "code",
      "execution_count": null,
      "metadata": {
        "id": "aH8WRQO_U_2o"
      },
      "outputs": [],
      "source": [
        "# def build_model(hp):\n",
        "#   model=keras.Sequential()\n",
        "#   model.add(Embedding(5000,300,input_length=450,weights=[embedding_matrix],trainable=False))\n",
        "#   model.add(tf.keras.layers.GlobalAveragePooling1D())\n",
        "#   for i in range(hp.Int('n_layers', 1, 4)):\n",
        "#     model.add(Dense(units=hp.Int(f'dense_units_{i}',min_value=48,max_value=200,step=12)))\n",
        "#     model.add(BatchNormalization())\n",
        "#     model.add(Activation('relu'))\n",
        "\n",
        "#   model.add(Dense(24,activation='softmax'))\n",
        "#   model.compile(loss='sparse_categorical_crossentropy',optimizer=keras.optimizers.Adam(hp.Choice('learning_rate',values=[1e-2, 1e-3, 1e-4])),metrics=['accuracy'])\n",
        "#   return model"
      ]
    },
    {
      "cell_type": "code",
      "execution_count": 43,
      "metadata": {
        "id": "WUDHGYi5XIHx"
      },
      "outputs": [],
      "source": [
        "#tuner = RandomSearch(build_model,objective='val_accuracy',max_trials=20,executions_per_trial=1,directory='/content/drive/MyDrive/interview',project_name='j')"
      ]
    },
    {
      "cell_type": "code",
      "execution_count": 44,
      "metadata": {
        "id": "bZ6L7CgBXIMT"
      },
      "outputs": [],
      "source": [
        "#tuner.search(padded_train,y_train,validation_data=(padded_test,y_test),batch_size=64,epochs=100)"
      ]
    },
    {
      "cell_type": "code",
      "execution_count": null,
      "metadata": {
        "id": "JLqlkvQxYQqk"
      },
      "outputs": [],
      "source": []
    }
  ],
  "metadata": {
    "accelerator": "GPU",
    "colab": {
      "collapsed_sections": [
        "RcCIcn-zKQDc",
        "2mMdtSjLKivJ"
      ],
      "provenance": [],
      "gpuType": "T4"
    },
    "kernelspec": {
      "display_name": "Python 3",
      "name": "python3"
    },
    "language_info": {
      "name": "python"
    }
  },
  "nbformat": 4,
  "nbformat_minor": 0
}